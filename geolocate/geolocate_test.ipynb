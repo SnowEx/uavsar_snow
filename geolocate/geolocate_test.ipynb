{
 "cells": [
  {
   "cell_type": "code",
   "execution_count": 69,
   "metadata": {},
   "outputs": [],
   "source": [
    "import numpy as np\n",
    "from uavsar_pytools.convert.tiff_conversion import read_annotation\n",
    "import matplotlib.pyplot as plt"
   ]
  },
  {
   "cell_type": "code",
   "execution_count": 61,
   "metadata": {},
   "outputs": [],
   "source": [
    "f = '/Users/zachkeskinen/Documents/uavsar_snow/jemez_slc/lowman_23205_20002_007_200131_L090HH_01_BC_s1_1x1.slc'\n",
    "desc = read_annotation('/Users/zachkeskinen/Documents/uavsar_snow/jemez_slc/lowman_23205_20002_007_200131_L090HH_01_BC.ann')"
   ]
  },
  {
   "cell_type": "code",
   "execution_count": 62,
   "metadata": {},
   "outputs": [],
   "source": [
    "spacing = '1x1'\n",
    "bs = desc['slc bytes per pixel']['value']\n",
    "nrows = desc[f'slc_1_{spacing} rows']['value']\n",
    "ncols = desc[f'slc_1_{spacing} columns']['value']\n",
    "dtype = desc['slc pixel format']['value']"
   ]
  },
  {
   "cell_type": "code",
   "execution_count": 72,
   "metadata": {},
   "outputs": [
    {
     "data": {
      "text/plain": [
       "True"
      ]
     },
     "execution_count": 72,
     "metadata": {},
     "output_type": "execute_result"
    }
   ],
   "source": [
    "bs == 8"
   ]
  },
  {
   "cell_type": "code",
   "execution_count": 67,
   "metadata": {},
   "outputs": [],
   "source": [
    "slc = np.fromfile(f, dtype = np.complex64).reshape(nrows, ncols)"
   ]
  },
  {
   "cell_type": "code",
   "execution_count": 1,
   "metadata": {},
   "outputs": [
    {
     "name": "stderr",
     "output_type": "stream",
     "text": [
      "/Users/zachkeskinen/miniconda3/envs/gdal/lib/python3.7/site-packages/tqdm/auto.py:22: TqdmWarning: IProgress not found. Please update jupyter and ipywidgets. See https://ipywidgets.readthedocs.io/en/stable/user_install.html\n",
      "  from .autonotebook import tqdm as notebook_tqdm\n"
     ]
    }
   ],
   "source": [
    "from geolocate import geolocate_uavsar"
   ]
  },
  {
   "cell_type": "code",
   "execution_count": null,
   "metadata": {},
   "outputs": [],
   "source": [
    "geolocate_uavsar(in_fp = '/Users/zachkeskinen/Documents/uavsar_snow/jemez_slc/lowman_23205_20002_007_200131_L090HH_01_BC_s1_1x1.slc',\n",
    "ann_fp = '/Users/zachkeskinen/Documents/uavsar_snow/jemez_slc/lowman_23205_20002_007_200131_L090HH_01_BC.ann', \n",
    "out_dir = '/Users/zachkeskinen/Documents/uavsar_snow/jemez_slc/phase', \n",
    "llh_fp = '/Users/zachkeskinen/Documents/uavsar_snow/jemez_slc/alamos_35915_01_BU_s1_2x8.llh')"
   ]
  }
 ],
 "metadata": {
  "kernelspec": {
   "display_name": "Python 3.7.13 ('gdal')",
   "language": "python",
   "name": "python3"
  },
  "language_info": {
   "codemirror_mode": {
    "name": "ipython",
    "version": 3
   },
   "file_extension": ".py",
   "mimetype": "text/x-python",
   "name": "python",
   "nbconvert_exporter": "python",
   "pygments_lexer": "ipython3",
   "version": "3.7.13"
  },
  "orig_nbformat": 4,
  "vscode": {
   "interpreter": {
    "hash": "e19654659cce21412630ca62b4e45c445c0beae10bad80a7b2260d691fa3d203"
   }
  }
 },
 "nbformat": 4,
 "nbformat_minor": 2
}
