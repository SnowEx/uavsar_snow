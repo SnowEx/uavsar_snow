{
 "cells": [
  {
   "cell_type": "code",
   "execution_count": 10,
   "metadata": {},
   "outputs": [],
   "source": [
    "import numpy as np\n",
    "from uavsar_pytools.convert.tiff_conversion import read_annotation"
   ]
  },
  {
   "cell_type": "code",
   "execution_count": 11,
   "metadata": {},
   "outputs": [],
   "source": [
    "f = '/Users/zachkeskinen/Documents/uavsar_snow/jemez_slc/lowman_23205_20002_007_200131_L090HH_01_BC_s1_1x1.slc'\n",
    "desc = read_annotation('/Users/zachkeskinen/Documents/uavsar_snow/jemez_slc/alamos_35915_20005_003_200212_L090HH_01_BU.ann')"
   ]
  },
  {
   "cell_type": "code",
   "execution_count": 13,
   "metadata": {},
   "outputs": [
    {
     "data": {
      "text/plain": [
       "dict_keys(['uavsar annotation type', 'uavsar stack annotation file version number', 'site description', 'stack name', 'stack line number', 'number of segments', 'flight line id', 'stackline1', 'stackline2', 'url', 'flight plan comments', 'processing comments', 'slc_1_1x1', 'slc_1_1x4', 'slc_1_2x8', 'llh_1_2x8', 'lkv_1_2x8', 'dop', 'slc data units', 'lat data units', 'lon data units', 'hgt data units', 'lkv data units', 'slc bytes per pixel', 'llh bytes per pixel', 'lkv bytes per pixel', 'slc pixel format', 'llh pixel format', 'lkv pixel format', 'slc_1_1x1 columns', 'slc_1_1x1 rows', 'slc_1_1x4 columns', 'slc_1_1x4 rows', 'slc_1_2x8 columns', 'slc_1_2x8 rows', 'llh_1_2x8 columns', 'llh_1_2x8 rows', 'lkv_1_2x8 columns', 'lkv_1_2x8 rows', 'acquisition mode', 'pulse length', 'steering angle', 'bandwidth', 'start time of acquisition', 'stop time of acquisition', 'look direction', 'ping-pong or single antenna transmit', 'average along track velocity', 'minimum look angle', 'maximum look angle', 'antenna length', 'hardware version number', 'peg latitude', 'peg longitude', 'peg heading', 'center wavelength', 'ellipsoid semi-major axis', 'ellipsoid eccentricity squared', 'image starting slant range', 'nominal azimuth reference length', 'global average yaw', 'global average pitch', 'global average roll', 'global average esa', 'global average altitude', 'global average terrain height', 'global average squint angle', 'average pulse repetition interval', 'average terrain height', 'standard deviation of terrain height', 'average altitude', 'number of range looks in 1x1 slc', 'number of azimuth looks in 1x1 slc', 'number of range looks in 1x4 slc', 'number of azimuth looks in 1x4 slc', 'number of range looks in 2x8 slc', 'number of azimuth looks in 2x8 slc', '1x1 slc range pixel spacing', '1x1 slc azimuth pixel spacing', '1x4 slc range pixel spacing', '1x4 slc azimuth pixel spacing', '2x8 slc range pixel spacing', '2x8 slc azimuth pixel spacing', '2x8 llh range pixel spacing', '2x8 llh azimuth pixel spacing', '2x8 lkv range pixel spacing', '2x8 lkv azimuth pixel spacing', 'segment 1 data starting azimuth', 'segment 1 data approximate corner 1', 'segment 1 data approximate corner 2', 'segment 1 data approximate corner 3', 'segment 1 data approximate corner 4', 'processing mode', 'polarization', 'precision dgps solution', 'rfi removed', 'adaptive rfi removal applied', 'mocomp i applied', 'mocomp ii applied', 'topo mocomp applied', 'dem used in topo mocomp', 'dem datum', 'dem source', 'dem interpolation method', 'dem original pixel spacing', 'dem citation count', 'reskew doppler', 'correlation threshold', 'residual baseline estimation method', 'stack coregistration reference', 'number of baseline iterations', 'length of processed data', 'date of processing', 'processor version number', 'post processor version number', 'antenna pattern radiometric correction applied', 'range dependent radiometric correction applied', 'flat earth area correction factor in slant plane applied', 'dem slope calibration applied', 'cross talk removed', 'apply receive cal pulse phase', 'apply transmit cal pulse phase', 'sigma nought bias lrti80', 'noise calibration constant lrti80', 'islr noise calibration term lrti80', 'polarimetrically calibrated', 'set_name', 'slc_1_1x1_mag.set_rows', 'slc_1_1x1_mag.set_cols', 'slc_1_1x1_mag.row_addr', 'slc_1_1x1_mag.col_addr', 'slc_1_1x1_mag.row_mult', 'slc_1_1x1_mag.col_mult', 'slc_1_1x1_phase.set_rows', 'slc_1_1x1_phase.set_cols', 'slc_1_1x1_phase.row_addr', 'slc_1_1x1_phase.col_addr', 'slc_1_1x1_phase.row_mult', 'slc_1_1x1_phase.col_mult', 'slc_1_1x4_mag.set_rows', 'slc_1_1x4_mag.set_cols', 'slc_1_1x4_mag.row_addr', 'slc_1_1x4_mag.col_addr', 'slc_1_1x4_mag.row_mult', 'slc_1_1x4_mag.col_mult', 'slc_1_1x4_phase.set_rows', 'slc_1_1x4_phase.set_cols', 'slc_1_1x4_phase.row_addr', 'slc_1_1x4_phase.col_addr', 'slc_1_1x4_phase.row_mult', 'slc_1_1x4_phase.col_mult', 'slc_1_2x8_mag.set_rows', 'slc_1_2x8_mag.set_cols', 'slc_1_2x8_mag.row_addr', 'slc_1_2x8_mag.col_addr', 'slc_1_2x8_mag.row_mult', 'slc_1_2x8_mag.col_mult', 'slc_1_2x8_phase.set_rows', 'slc_1_2x8_phase.set_cols', 'slc_1_2x8_phase.row_addr', 'slc_1_2x8_phase.col_addr', 'slc_1_2x8_phase.row_mult', 'slc_1_2x8_phase.col_mult', 'llh_1_2x8.set_rows', 'llh_1_2x8.set_cols', 'llh_1_2x8.row_addr', 'llh_1_2x8.col_addr', 'lkv_1_2x8.set_rows', 'lkv_1_2x8.set_cols', 'set_hddr', 'set_tail', 'llh_1_2x8.set_hdr', 'set_proj', 'llh_1_2x8.set_proj', 'lkv_1_2x8.set_proj', 'val_size', 'llh_1_2x8.val_size', 'lkv_1_2x8.val_size', 'slc_1_1x1_mag.val_frmt', 'slc_1_1x4_mag.val_frmt', 'slc_1_2x8_mag.val_frmt', 'slc_1_1x1_phase.val_frmt', 'slc_1_1x4_phase.val_frmt', 'slc_1_2x8_phase.val_frmt', 'llh_1_2x8.val_frmt', 'lkv_1_2x8.val_frmt', 'val_endi', 'val_mult', 'val_addr', 'val_minv', 'val_maxv', 'slc_1_1x1_phase.val_mult', 'slc_1_1x4_phase.val_mult', 'slc_1_2x8_phase.val_mult', 'slc_1_1x1_phase.val_minv', 'slc_1_1x4_phase.val_minv', 'slc_1_2x8_phase.val_minv', 'slc_1_1x1_phase.val_maxv', 'slc_1_1x4_phase.val_maxv', 'slc_1_2x8_phase.val_maxv', 'dsp_cmap', 'slc_1_1x1_phase.dsp_cmap', 'slc_1_1x4_phase.dsp_cmap', 'slc_1_2x8_phase.dsp_cmap', 'llh_1_2x8.dsp_cmap', 'lkv_1_2x8.dsp_cmap', 'set_plat', 'set_plon', 'set_phdg'])"
      ]
     },
     "execution_count": 13,
     "metadata": {},
     "output_type": "execute_result"
    }
   ],
   "source": [
    "desc.keys()"
   ]
  },
  {
   "cell_type": "code",
   "execution_count": 32,
   "metadata": {},
   "outputs": [],
   "source": [
    "spacing = '1x1'\n",
    "bs = desc['slc bytes per pixel']['value']\n",
    "nrows = desc[f'slc_1_{spacing} rows']['value']\n",
    "ncols = desc[f'slc_1_{spacing} columns']['value']\n",
    "dtype = desc['slc pixel format']['value']"
   ]
  },
  {
   "cell_type": "code",
   "execution_count": 30,
   "metadata": {},
   "outputs": [
    {
     "ename": "ValueError",
     "evalue": "cannot reshape array of size 295121528 into shape (69021,9789)",
     "output_type": "error",
     "traceback": [
      "\u001b[0;31m---------------------------------------------------------------------------\u001b[0m",
      "\u001b[0;31mValueError\u001b[0m                                Traceback (most recent call last)",
      "\u001b[1;32m/Users/zachkeskinen/Documents/uavsar_snow/geolocate/geolocate_test.ipynb Cell 5'\u001b[0m in \u001b[0;36m<cell line: 1>\u001b[0;34m()\u001b[0m\n\u001b[0;32m----> <a href='vscode-notebook-cell:/Users/zachkeskinen/Documents/uavsar_snow/geolocate/geolocate_test.ipynb#ch0000001?line=0'>1</a>\u001b[0m slc \u001b[39m=\u001b[39m np\u001b[39m.\u001b[39;49mfromfile(f, dtype \u001b[39m=\u001b[39;49m np\u001b[39m.\u001b[39;49mcdouble)\u001b[39m.\u001b[39;49mreshape((nrows,ncols))\n",
      "\u001b[0;31mValueError\u001b[0m: cannot reshape array of size 295121528 into shape (69021,9789)"
     ]
    }
   ],
   "source": [
    "slc = np.fromfile(f, ).reshape((nrows,ncols))"
   ]
  },
  {
   "cell_type": "code",
   "execution_count": 22,
   "metadata": {},
   "outputs": [
    {
     "ename": "ValueError",
     "evalue": "cannot reshape array of size 590243056 into shape (69021,9789)",
     "output_type": "error",
     "traceback": [
      "\u001b[0;31m---------------------------------------------------------------------------\u001b[0m",
      "\u001b[0;31mValueError\u001b[0m                                Traceback (most recent call last)",
      "\u001b[1;32m/Users/zachkeskinen/Documents/uavsar_snow/geolocate/geolocate_test.ipynb Cell 6'\u001b[0m in \u001b[0;36m<cell line: 1>\u001b[0;34m()\u001b[0m\n\u001b[0;32m----> <a href='vscode-notebook-cell:/Users/zachkeskinen/Documents/uavsar_snow/geolocate/geolocate_test.ipynb#ch0000006?line=0'>1</a>\u001b[0m np\u001b[39m.\u001b[39;49mfromfile(f, dtype \u001b[39m=\u001b[39;49m \u001b[39mfloat\u001b[39;49m)\u001b[39m.\u001b[39;49mreshape((nrows,ncols))\n",
      "\u001b[0;31mValueError\u001b[0m: cannot reshape array of size 590243056 into shape (69021,9789)"
     ]
    }
   ],
   "source": [
    "np.fromfile(f, dtype = float).reshape((nrows,ncols))"
   ]
  },
  {
   "cell_type": "code",
   "execution_count": null,
   "metadata": {},
   "outputs": [],
   "source": [
    "plt.imshow(slc)"
   ]
  }
 ],
 "metadata": {
  "kernelspec": {
   "display_name": "Python 3.9.12 ('uavsar')",
   "language": "python",
   "name": "python3"
  },
  "language_info": {
   "codemirror_mode": {
    "name": "ipython",
    "version": 3
   },
   "file_extension": ".py",
   "mimetype": "text/x-python",
   "name": "python",
   "nbconvert_exporter": "python",
   "pygments_lexer": "ipython3",
   "version": "3.9.12"
  },
  "orig_nbformat": 4,
  "vscode": {
   "interpreter": {
    "hash": "ba8967e065a58c806f1bdb735567067b52f77062b6ff6cacc1c3011561bd9c8e"
   }
  }
 },
 "nbformat": 4,
 "nbformat_minor": 2
}
