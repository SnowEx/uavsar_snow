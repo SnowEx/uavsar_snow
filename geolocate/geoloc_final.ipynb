{
 "cells": [
  {
   "cell_type": "code",
   "execution_count": 8,
   "metadata": {},
   "outputs": [],
   "source": [
    "import numpy as np\n",
    "from os.path import join, dirname\n",
    "import rasterio as rio\n",
    "import uavsar_pytools\n",
    "import sys\n",
    "sys.path.append('/Users/zachkeskinen/Documents/uavsar_snow/functions')\n",
    "from tiff_convert import read_annotation\n",
    "import matplotlib.pyplot as plt"
   ]
  },
  {
   "cell_type": "code",
   "execution_count": 9,
   "metadata": {},
   "outputs": [],
   "source": [
    "in_fp = '/Users/zachkeskinen/Documents/uavsar_snow/jemez_slc/alamos_35915_01_BU_s1_2x8.llh'\n",
    "in_2_fp = '/Users/zachkeskinen/Documents/uavsar_snow/jemez_slc/alamos_35915_01_BU_s1_2x8.lkv'\n",
    "ann_fp = '/Users/zachkeskinen/Documents/uavsar_snow/jemez_slc/alamos_35915_20005_003_200212_L090HH_01_BU.ann'"
   ]
  },
  {
   "cell_type": "code",
   "execution_count": 10,
   "metadata": {},
   "outputs": [],
   "source": [
    "desc = read_annotation(ann_fp)"
   ]
  },
  {
   "cell_type": "code",
   "execution_count": 18,
   "metadata": {},
   "outputs": [],
   "source": [
    "nrows = desc['lkv_1_2x8.set_rows']['value']\n",
    "ncols = desc['lkv_1_2x8.set_cols']['value']\n",
    "dt = np.dtype('<f')\n",
    "\n",
    "arr = np.fromfile(in_fp, dtype = dt)\n",
    "lats = arr[::3].reshape(nrows, ncols)\n",
    "longs = arr[1::3].reshape(nrows, ncols)\n",
    "elev = arr[2::3].reshape(nrows, ncols)\n",
    "\n",
    "arr = np.fromfile(in_2_fp, dtype = dt)\n",
    "lk_east = arr[::3].reshape(nrows, ncols)\n",
    "lk_north = arr[1::3].reshape(nrows, ncols)\n",
    "lk_up = arr[2::3].reshape(nrows, ncols)"
   ]
  }
 ],
 "metadata": {
  "kernelspec": {
   "display_name": "Python 3.9.12 ('uavsar')",
   "language": "python",
   "name": "python3"
  },
  "language_info": {
   "codemirror_mode": {
    "name": "ipython",
    "version": 3
   },
   "file_extension": ".py",
   "mimetype": "text/x-python",
   "name": "python",
   "nbconvert_exporter": "python",
   "pygments_lexer": "ipython3",
   "version": "3.9.12"
  },
  "orig_nbformat": 4,
  "vscode": {
   "interpreter": {
    "hash": "ba8967e065a58c806f1bdb735567067b52f77062b6ff6cacc1c3011561bd9c8e"
   }
  }
 },
 "nbformat": 4,
 "nbformat_minor": 2
}
