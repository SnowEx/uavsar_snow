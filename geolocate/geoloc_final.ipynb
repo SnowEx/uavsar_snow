{
 "cells": [
  {
   "cell_type": "code",
   "execution_count": 12,
   "metadata": {},
   "outputs": [],
   "source": [
    "import numpy as np\n",
    "from os.path import join\n",
    "import rasterio as rio\n",
    "import uavsar_pytools\n",
    "import sys\n",
    "sys.path.append('/Users/zachkeskinen/Documents/uavsar_snow/functions')\n",
    "from tiff_convert import grd_tiff_convert"
   ]
  },
  {
   "cell_type": "code",
   "execution_count": 9,
   "metadata": {},
   "outputs": [
    {
     "ename": "KeyError",
     "evalue": "'llh.set_rows'",
     "output_type": "error",
     "traceback": [
      "\u001b[0;31m---------------------------------------------------------------------------\u001b[0m",
      "\u001b[0;31mKeyError\u001b[0m                                  Traceback (most recent call last)",
      "\u001b[1;32m/Users/zachkeskinen/Documents/uavsar_snow/geolocate/geoloc_final.ipynb Cell 2'\u001b[0m in \u001b[0;36m<cell line: 4>\u001b[0;34m()\u001b[0m\n\u001b[1;32m      <a href='vscode-notebook-cell:/Users/zachkeskinen/Documents/uavsar_snow/geolocate/geoloc_final.ipynb#ch0000001?line=1'>2</a>\u001b[0m ann_fp \u001b[39m=\u001b[39m \u001b[39m'\u001b[39m\u001b[39m/Users/zachkeskinen/Documents/uavsar_snow/jemez_slc/alamos_35915_20005_003_200212_L090HH_01_BU.ann\u001b[39m\u001b[39m'\u001b[39m\n\u001b[1;32m      <a href='vscode-notebook-cell:/Users/zachkeskinen/Documents/uavsar_snow/geolocate/geoloc_final.ipynb#ch0000001?line=2'>3</a>\u001b[0m out_fp \u001b[39m=\u001b[39m join(in_fp, \u001b[39m'\u001b[39m\u001b[39m.tiff\u001b[39m\u001b[39m'\u001b[39m)\n\u001b[0;32m----> <a href='vscode-notebook-cell:/Users/zachkeskinen/Documents/uavsar_snow/geolocate/geoloc_final.ipynb#ch0000001?line=3'>4</a>\u001b[0m grd_tiff_convert(in_fp, out_fp, ann_fp)\n",
      "File \u001b[0;32m~/miniconda3/envs/uavsar/lib/python3.9/site-packages/uavsar_pytools/convert/tiff_conversion.py:246\u001b[0m, in \u001b[0;36mgrd_tiff_convert\u001b[0;34m(in_fp, out_dir, ann_fp, overwrite)\u001b[0m\n\u001b[1;32m    243\u001b[0m log\u001b[39m.\u001b[39mdebug(\u001b[39mf\u001b[39m\u001b[39m'\u001b[39m\u001b[39mtype: \u001b[39m\u001b[39m{\u001b[39;00m\u001b[39mtype\u001b[39m\u001b[39m}\u001b[39;00m\u001b[39m'\u001b[39m)\n\u001b[1;32m    245\u001b[0m \u001b[39m# Pull the appropriate values from our annotation dictionary\u001b[39;00m\n\u001b[0;32m--> 246\u001b[0m nrow \u001b[39m=\u001b[39m desc[\u001b[39mf\u001b[39;49m\u001b[39m'\u001b[39;49m\u001b[39m{\u001b[39;49;00m\u001b[39mtype\u001b[39;49m\u001b[39m}\u001b[39;49;00m\u001b[39m.set_rows\u001b[39;49m\u001b[39m'\u001b[39;49m][\u001b[39m'\u001b[39m\u001b[39mvalue\u001b[39m\u001b[39m'\u001b[39m]\n\u001b[1;32m    247\u001b[0m ncol \u001b[39m=\u001b[39m desc[\u001b[39mf\u001b[39m\u001b[39m'\u001b[39m\u001b[39m{\u001b[39;00m\u001b[39mtype\u001b[39m\u001b[39m}\u001b[39;00m\u001b[39m.set_cols\u001b[39m\u001b[39m'\u001b[39m][\u001b[39m'\u001b[39m\u001b[39mvalue\u001b[39m\u001b[39m'\u001b[39m]\n\u001b[1;32m    248\u001b[0m log\u001b[39m.\u001b[39mdebug(\u001b[39mf\u001b[39m\u001b[39m'\u001b[39m\u001b[39mrows: \u001b[39m\u001b[39m{\u001b[39;00mnrow\u001b[39m}\u001b[39;00m\u001b[39m x cols: \u001b[39m\u001b[39m{\u001b[39;00mncol\u001b[39m}\u001b[39;00m\u001b[39m pixels\u001b[39m\u001b[39m'\u001b[39m)\n",
      "\u001b[0;31mKeyError\u001b[0m: 'llh.set_rows'"
     ]
    }
   ],
   "source": [
    "in_fp = '/Users/zachkeskinen/Documents/uavsar_snow/jemez_slc/alamos_35915_01_BU_s1_2x8.llh'\n",
    "ann_fp = '/Users/zachkeskinen/Documents/uavsar_snow/jemez_slc/alamos_35915_20005_003_200212_L090HH_01_BU.ann'\n",
    "out_fp = join(in_fp, '.tiff')\n",
    "grd_tiff_convert(in_fp, out_fp, ann_fp)"
   ]
  },
  {
   "cell_type": "code",
   "execution_count": 7,
   "metadata": {},
   "outputs": [
    {
     "name": "stdout",
     "output_type": "stream",
     "text": [
      "\u001b[0;31mSignature:\u001b[0m \u001b[0mgrd_tiff_convert\u001b[0m\u001b[0;34m(\u001b[0m\u001b[0min_fp\u001b[0m\u001b[0;34m,\u001b[0m \u001b[0mout_dir\u001b[0m\u001b[0;34m,\u001b[0m \u001b[0mann_fp\u001b[0m\u001b[0;34m=\u001b[0m\u001b[0;32mNone\u001b[0m\u001b[0;34m,\u001b[0m \u001b[0moverwrite\u001b[0m\u001b[0;34m=\u001b[0m\u001b[0;34m'user'\u001b[0m\u001b[0;34m)\u001b[0m\u001b[0;34m\u001b[0m\u001b[0;34m\u001b[0m\u001b[0m\n",
      "\u001b[0;31mDocstring:\u001b[0m\n",
      "Converts a single binary image either polsar or insar to geotiff.\n",
      "See: https://uavsar.jpl.nasa.gov/science/documents/polsar-format.html for polsar\n",
      "and: https://uavsar.jpl.nasa.gov/science/documents/rpi-format.html for insar\n",
      "and: https://uavsar.jpl.nasa.gov/science/documents/stack-format.html for SLC stacks.\n",
      "\n",
      "Args:\n",
      "    in_fp (string): path to input binary file\n",
      "    out_dir (string): directory to save geotiff in\n",
      "    ann_fp (string): path to UAVSAR annotation file\n",
      "\u001b[0;31mFile:\u001b[0m      ~/miniconda3/envs/uavsar/lib/python3.9/site-packages/uavsar_pytools/convert/tiff_conversion.py\n",
      "\u001b[0;31mType:\u001b[0m      function\n"
     ]
    }
   ],
   "source": [
    "?grd_tiff_convert"
   ]
  },
  {
   "cell_type": "code",
   "execution_count": null,
   "metadata": {},
   "outputs": [],
   "source": []
  }
 ],
 "metadata": {
  "kernelspec": {
   "display_name": "Python 3.9.12 ('uavsar')",
   "language": "python",
   "name": "python3"
  },
  "language_info": {
   "codemirror_mode": {
    "name": "ipython",
    "version": 3
   },
   "file_extension": ".py",
   "mimetype": "text/x-python",
   "name": "python",
   "nbconvert_exporter": "python",
   "pygments_lexer": "ipython3",
   "version": "3.9.12"
  },
  "orig_nbformat": 4,
  "vscode": {
   "interpreter": {
    "hash": "ba8967e065a58c806f1bdb735567067b52f77062b6ff6cacc1c3011561bd9c8e"
   }
  }
 },
 "nbformat": 4,
 "nbformat_minor": 2
}
