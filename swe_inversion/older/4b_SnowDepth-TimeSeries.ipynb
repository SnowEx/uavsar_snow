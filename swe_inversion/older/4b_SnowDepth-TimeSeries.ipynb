{
 "cells": [
  {
   "cell_type": "markdown",
   "metadata": {},
   "source": [
    "This notebook is a modification of 4_SnowDepth-Timeseries.ipynb file. Here, I used incidence angle file in the calculation of snow depth"
   ]
  },
  {
   "cell_type": "code",
   "execution_count": 1,
   "metadata": {},
   "outputs": [],
   "source": [
    "##import packages\n",
    "import asf_search as asf\n",
    "from uavsar_pytools.UavsarImage import UavsarImage #single image class\n",
    "from uavsar_pytools.uavsar_tools import grd_tiff_convert #single image class\n",
    "from uavsar_pytools.UavsarScene import UavsarScene # binary convert to .tiffs\n",
    "from datetime import datetime\n",
    "import progressbar\n",
    "from tqdm import tqdm\n",
    "import logging\n",
    "import glob\n",
    "import requests\n",
    "import zipfile\n",
    "\n",
    "#Files/directory package\n",
    "import os\n",
    "\n",
    "#plotting packages\n",
    "import matplotlib.pyplot as plt\n",
    "import seaborn as sns\n",
    "\n",
    "#spatial data and other packages\n",
    "import pandas as pd\n",
    "import geopandas as gpd\n",
    "import rioxarray \n",
    "#import earthpy as et\n",
    "import numpy as np\n",
    "#import rasterio\n",
    "#from rasterio.warp import calculate_default_transform, reproject, Resampling\n",
    "import glob"
   ]
  },
  {
   "cell_type": "code",
   "execution_count": 2,
   "metadata": {},
   "outputs": [
    {
     "name": "stdout",
     "output_type": "stream",
     "text": [
      "working directory: /home/naheemadebisi/snow-analytics/lowman\n",
      "data directory: /SNOWDATA/Nah/lowman/tiffs/\n"
     ]
    }
   ],
   "source": [
    "#set path\n",
    "print('working directory:', os.getcwd()) #print current working directory\n",
    "\n",
    "#set the absolute path for the data\n",
    "data_path = '/SNOWDATA/Nah/lowman/tiffs/'\n",
    "print('data directory:', data_path)"
   ]
  },
  {
   "cell_type": "code",
   "execution_count": 3,
   "metadata": {},
   "outputs": [],
   "source": [
    "# Confirm the file for each time stamps (compare with name at UAF)\n",
    "lowman_jan15_jan20 = data_path + 'lowman_23205_21002-004_21004-003_0005d_s01_L090VV_01.unw.grd.tiff' #UA_lowman_23205_21002-004_21004-003_0005d_s01_L090_01\n",
    "lowman_jan20_jan27 = data_path + 'lowman_23205_21004-003_21008-000_0007d_s01_L090VV_01.unw.grd.tiff' #UA_lowman_23205_21004-003_21008-000_0007d_s01_L090_01\n",
    "lowman_jan27_feb03 = data_path + 'lowman_23205_21008-000_21009-004_0007d_s01_L090VV_01.unw.grd.tiff' #UA_lowman_23205_21008-000_21009-004_0007d_s01_L090_01\n",
    "lowman_feb03_feb10 = data_path + 'lowman_23205_21009-004_21012-000_0007d_s01_L090VV_01.unw.grd.tiff' #UA_lowman_23205_21009-004_21012-000_0007d_s01_L090_01\n",
    "#lowman_feb03_feb10_b = data_path + 'lowman_05208_21009-005_21012-004_0007d_s01_L090VV_01.unw.grd.tiff' #UA_lowman_05208_21009-005_21012-004_0007d_s01_L090_01\n",
    "#lowman_feb10_mar03 = data_path + 'lowman_23205_21012-000_21015-008_0021d_s01_L090VV_01.unw.grd.tiff' #No unw file #UA_lowman_23205_21012-000_21015-008_0021d_s01_L090_01\n",
    "#lowman_feb10_mar03_b = data_path + 'lowman_05208_21012-004_21015-009_0021d_s01_L090VV_01.unw.grd.tiff' #UA_lowman_05208_21012-004_21015-009_0021d_s01_L090_01\n",
    "lowman_mar03_mar10 = data_path + 'lowman_23205_21015-008_21017-018_0007d_s01_L090VV_01.unw.grd.tiff' #UA_lowman_23205_21015-008_21017-018_0007d_s01_L090_01\n",
    "#lowman_mar03_mar10_b = data_path + 'lowman_05208_21015-009_21017-019_0007d_s01_L090VV_01.unw.grd.tiff' #UA_lowman_05208_21015-009_21017-019_0007d_s01_L090_01\n",
    "lowman_mar10_mar16 = data_path + 'lowman_23205_21017-018_21019-018_0006d_s01_L090VV_01.unw.grd.tiff' #UA_lowman_23205_21017-018_21019-018_0006d_s01_L090_01 \n",
    "#lowman_mar10_mar16_b = data_path + 'lowman_05208_21017-019_21019-019_0006d_s01_L090VV_01.unw.grd.tiff' #UA_lowman_05208_21017-019_21019-019_0006d_s01_L090_01\n",
    "lowman_mar16_mar22 = data_path + 'lowman_23205_21019-018_21021-006_0006d_s01_L090VV_01.unw.grd.tiff' #UA_lowman_23205_21019-018_21021-006_0006d_s01_L090_01\n",
    "#lowman_mar16_mar22_b = data_path + 'lowman_05208_21019-019_21021-007_0006d_s01_L090VV_01.unw.grd.tiff' #UA_lowman_05208_21019-019_21021-007_0006d_s01_L090_01\n",
    "\n",
    "\n",
    "unw_files = [lowman_jan15_jan20, lowman_jan20_jan27, lowman_jan27_feb03, lowman_feb03_feb10, \n",
    "             lowman_mar03_mar10, lowman_mar10_mar16, lowman_mar16_mar22]\n",
    "\n",
    "#Put as list of string for acquisition period attribute\n",
    "acquisition_period = ['Jan15-Jan20', 'Jan20-Jan27', 'Jan27-Feb03', 'Feb03-Feb10', 'Mar03-Mar10', 'Mar10-Mar16', 'Mar16-Mar22']\n",
    "acquisition_period_b = ['01-15-2021_01-20-2021', '01-20-2021_01-27-2021', '01-27-2021_02-03-2021', '02-03-2021_02-10-2021',  \n",
    "                        '03-03-2021_03-10-2021', '03-10-2021_03-16-2021', '03-16-2021_03-22-2021']\n",
    "\n",
    "\n"
   ]
  },
  {
   "cell_type": "code",
   "execution_count": 5,
   "metadata": {},
   "outputs": [],
   "source": [
    "#Read the incidence angle tiff file\n",
    "incidence_angle = rioxarray.open_rasterio('/SNOWDATA/Nah/lowman/Incidence_Angle/lowman_23205_21002_004_210115_L090_CX_01.inc.tiff')\n"
   ]
  },
  {
   "cell_type": "code",
   "execution_count": 7,
   "metadata": {},
   "outputs": [],
   "source": [
    "#Read each file into as x array DataArray object, give a better name and add the metadata of interferogram date period\n",
    "unw_files_arr = []\n",
    "#unw_files_arr_whisker = []\n",
    "snow_depth_arr = []\n",
    "#roi_snow_depth = []\n",
    "for i in range(len(unw_files)):\n",
    "    unw_files_arr.append(rioxarray.open_rasterio(unw_files[i]))\n",
    "    unw_files_arr[i].name = acquisition_period[i]\n",
    "    unw_files_arr[i].attrs['acquisition_period'] = acquisition_period[i]\n",
    "    unw_files_arr[i].attrs['acquisition_period_b'] = acquisition_period_b[i]\n",
    "    unw_files_arr[i].attrs['sensor_polarization'] = 'VV'\n",
    "    unw_files_arr[i].attrs['location'] = 'lowman'\n",
    "\n",
    "    # Remove Outlier: Select only data values within 0.95 and 0.05 of the upper whisker\n",
    "    #unw_arr_whisker = unw_files_arr[i].where(((unw_files_arr[i] < float(unw_files_arr[i].quantile(0.95).values)) & (unw_files_arr[i] > float(unw_files_arr[i].quantile(0.05).values))), other = np.nan)\n",
    "    #unw_files_arr_whisker.append(unw_arr_whisker)\n",
    "    \n",
    "    #calculate the snow depth based on Guinerrisen 2001 formula\n",
    "    snowdepth_cm = (-1 * unw_files_arr[i] * 24.0)/(4 * np.pi * (np.cos(incidence_angle)  - np.sqrt(1.5 - (np.sin(incidence_angle)**2))))\n",
    "    snow_depth_arr.append(snowdepth_cm)\n",
    "\n",
    "    # # Append snow depth at the point of interest. MCS Snotel site [lat, lon] = [43.9333, -115.667]\n",
    "    # roi_snow_depth.append((snowdepth_cm.sel(x = -115.667, y = 43.9333, method = 'nearest')).to_dataframe())"
   ]
  },
  {
   "cell_type": "code",
   "execution_count": 8,
   "metadata": {},
   "outputs": [],
   "source": [
    "# save xarray to tif file\n",
    "snow_depth_arr[0].rio.to_raster('/home/naheemadebisi/snow-analytics/lowman/MCS2/MCS_15_20Jan2021_snow_diff.tif')\n",
    "snow_depth_arr[1].rio.to_raster('/home/naheemadebisi/snow-analytics/lowman/MCS2/MCS_20_27Jan2021_snow_diff.tif')\n",
    "snow_depth_arr[2].rio.to_raster('/home/naheemadebisi/snow-analytics/lowman/MCS2/MCS_27_03Feb2021_snow_diff.tif')\n",
    "snow_depth_arr[3].rio.to_raster('/home/naheemadebisi/snow-analytics/lowman/MCS2/MCS_03_10Feb2021_snow_diff.tif')\n",
    "snow_depth_arr[4].rio.to_raster('/home/naheemadebisi/snow-analytics/lowman/MCS2/MCS_03_10Mar2021_snow_diff.tif')\n",
    "snow_depth_arr[5].rio.to_raster('/home/naheemadebisi/snow-analytics/lowman/MCS2/MCS_10_16Mar2021_snow_diff.tif')\n",
    "snow_depth_arr[6].rio.to_raster('/home/naheemadebisi/snow-analytics/lowman/MCS2/MCS_16_22Mar2021_snow_diff.tif')\n"
   ]
  },
  {
   "cell_type": "code",
   "execution_count": null,
   "metadata": {},
   "outputs": [],
   "source": []
  }
 ],
 "metadata": {
  "interpreter": {
   "hash": "977e7155b40fd79ab6ef1454f252b09dfc8dce4ea242827a219f0dc80af4feee"
  },
  "kernelspec": {
   "display_name": "Python 3.8.12 ('earth-analytics-python')",
   "language": "python",
   "name": "python3"
  },
  "language_info": {
   "codemirror_mode": {
    "name": "ipython",
    "version": 3
   },
   "file_extension": ".py",
   "mimetype": "text/x-python",
   "name": "python",
   "nbconvert_exporter": "python",
   "pygments_lexer": "ipython3",
   "version": "3.8.12"
  },
  "orig_nbformat": 4
 },
 "nbformat": 4,
 "nbformat_minor": 2
}
