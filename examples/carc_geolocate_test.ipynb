{
 "cells": [
  {
   "cell_type": "markdown",
   "metadata": {
    "tags": []
   },
   "source": [
    "# Geolocating ISCE Products\n",
    "By: Zack Keskinen, Jack Tarricone, Ross Palomaki, Naheem Adebisi"
   ]
  },
  {
   "cell_type": "code",
   "execution_count": null,
   "metadata": {},
   "outputs": [],
   "source": [
    "import numpy as np\n",
    "from uavsar_pytools.convert.tiff_conversion import read_annotation\n",
    "import matplotlib.pyplot as plt\n",
    "import rasterio as rio\n",
    "from osgeo import gdal\n",
    "import sys\n",
    "sys.path.append('/Users/jacktarricone/uavsar_snow/geolocate')\n",
    "from geolocate import geolocate_uavsar"
   ]
  },
  {
   "cell_type": "markdown",
   "metadata": {},
   "source": [
    "## Plot Slant Range Unwrapped Phase\n",
    "ISCE and the unwrapping process (ICU/SNAPHU) produces an interferogram (.int), unwrapped phase (.unw), coherence (.coh), and unwrapping components (.unw.conncomp) in slant range. These products need to be georefernced. "
   ]
  },
  {
   "cell_type": "code",
   "execution_count": null,
   "metadata": {},
   "outputs": [],
   "source": [
    "# test plot unw file\n",
    "\n",
    "with rio.open('/Users/jacktarricone/isce_run/igrams/20210115T1910_20210120T2040/20210115T1910_20210120T2040.unw_snaphu.unw.vrt') as src:\n",
    "    arr = src.read(2) # read second band of unw files\n",
    "    \n",
    "fig = plt.figure(figsize=(18, 16))\n",
    "plt.imshow(arr, vmin = -2, vmax = 2)"
   ]
  },
  {
   "cell_type": "markdown",
   "metadata": {},
   "source": [
    "## Geolocate using ```geolocate_uavsar()```\n",
    "The funciton has four inputs which are outlined below"
   ]
  },
  {
   "cell_type": "code",
   "execution_count": null,
   "metadata": {},
   "outputs": [],
   "source": [
    "# path to your unw.vrt\n",
    "in_fp = '/Users/jacktarricone/isce_run/igrams/20210115T1910_20210120T2040/20210115T1910_20210120T2040.unw_snaphu.unw.vrt'\n",
    "\n",
    "# path to annotation file\n",
    "ann_fp = '/Users/jacktarricone/isce_run/download/uticam_21003_21002_003_210115_L090HH_01_BC.ann'\n",
    "\n",
    "# where the .tif is being save\n",
    "out_dir = '/Users/jacktarricone/isce_run/download/'\n",
    "\n",
    "# path to lat/lon/height file\n",
    "llh_fp = '/Users/jacktarricone/isce_run/download/uticam_21003_01_BC_s1_2x8.llh'"
   ]
  },
  {
   "cell_type": "code",
   "execution_count": null,
   "metadata": {},
   "outputs": [],
   "source": [
    "# run geolocate function\n",
    "new_tif_path = geolocate_uavsar(in_fp = in_fp, ann_fp = ann_fp, out_dir = out_dir, llh_fp = llh_fp)\n",
    "print(new_tif_path[0])"
   ]
  },
  {
   "cell_type": "markdown",
   "metadata": {},
   "source": [
    "## Plot the geolocated unwrapped phase!"
   ]
  },
  {
   "cell_type": "code",
   "execution_count": null,
   "metadata": {},
   "outputs": [],
   "source": [
    "with rio.open(new_tif_path[0]) as src:\n",
    "    gc = src.read(1) # read second band of unw files\n",
    "    \n",
    "gc[gc == 0] = np.nan\n",
    "    \n",
    "fig = plt.figure(figsize=(18, 16))\n",
    "plt.imshow(gc, vmin = -2, vmax = 2)"
   ]
  }
 ],
 "metadata": {
  "kernelspec": {
   "display_name": "Python 3 (ipykernel)",
   "language": "python",
   "name": "python3"
  },
  "language_info": {
   "codemirror_mode": {
    "name": "ipython",
    "version": 3
   },
   "file_extension": ".py",
   "mimetype": "text/x-python",
   "name": "python",
   "nbconvert_exporter": "python",
   "pygments_lexer": "ipython3",
   "version": "3.10.2"
  },
  "vscode": {
   "interpreter": {
    "hash": "e19654659cce21412630ca62b4e45c445c0beae10bad80a7b2260d691fa3d203"
   }
  }
 },
 "nbformat": 4,
 "nbformat_minor": 4
}
