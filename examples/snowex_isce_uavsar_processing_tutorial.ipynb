{
 "cells": [
  {
   "cell_type": "markdown",
   "id": "8f8708c0-1000-4ca8-a8d2-adf18061055a",
   "metadata": {},
   "source": [
    "# ISCE Processing of SnowEx UAVSAR data\n",
    "By: **Jack Tarricone** *(University of Nevada, Reno)* \\\n",
    "Guidance from: **Sam Neitlich** *(Montana State/JPL)*, **Yungling Lou** *(JPL)*, **Zach Keskenin** *(Boise State)*, **Ross Palomaki** *(Montana State)*, **Naheem Adebisi** *(Boise State)*"
   ]
  },
  {
   "cell_type": "code",
   "execution_count": 3,
   "id": "5d8f648b-3409-4ba6-a829-3766e6f5ef32",
   "metadata": {},
   "outputs": [
    {
     "name": "stdout",
     "output_type": "stream",
     "text": [
      "This is the Open Source version of ISCE.\n",
      "Some of the workflows depend on a separate licensed package.\n",
      "To obtain the licensed package, please make a request for ISCE\n",
      "through the website: https://download.jpl.nasa.gov/ops/request/index.cfm.\n",
      "Alternatively, if you are a member, or can become a member of WinSAR\n",
      "you may be able to obtain access to a version of the licensed sofware at\n",
      "https://winsar.unavco.org/software/isce\n"
     ]
    }
   ],
   "source": [
    "import os\n",
    "import glob\n",
    "import numpy as np\n",
    "import isce\n",
    "import shutil\n",
    "#import wget #(fix this)\n",
    "#import uavsar_pytools\n",
    "#import matplotlib.pyplot as plt\n",
    "#import matplotlib\n",
    "#import rasterio as rio\n",
    "#from osgeo import gdal\n",
    "#from rasterio.plot import show"
   ]
  },
  {
   "cell_type": "markdown",
   "id": "20fdfa38-427c-4a7d-be93-492413094a22",
   "metadata": {},
   "source": [
    "This tutorial is a recreation of the processing steps outlined [IsceUAVSARprocessing.ipynb](https://github.com/taliboliver/Isce_UAVSAR/blob/master/IsceUAVSARprocessing.ipynb), with addtional functionality added by the ```uavsar_pytools``` package. It is assumed that users have ISCE installed on thier local machines, which admittedly can be the most challenging step in this process.  For information on ISCE installoation please see the [Isce_UAVSAR](https://github.com/taliboliver/Isce_UAVSAR) by **Talib Oliver** *(JPL)* or Eric fieldings (find link from Zach)\n",
    "\n",
    "In this notebook, we will interfermoterically process SLC stack from the Jemez Mountains, NM using the [Interferometric synthetic aperture radar Scientific Computing Environment (ISCE2)](https://github.com/isce-framework/isce2). We will then phase unwrap using [SNAPHU](https://web.stanford.edu/group/radar/softwareandlinks/sw/snaphu/), and geolocate the SLC data using ```geolocate_uavsar()```.\n",
    "\n",
    "Past tutorials have assumed that your Jupyter environment will natively run command line code. In this notebook will run ISCE using python functionality."
   ]
  },
  {
   "cell_type": "markdown",
   "id": "6d559c04-4b10-424f-970a-d44d5b3bb821",
   "metadata": {},
   "source": [
    "## Create folder to work out of\n",
    "First we'll create a new folder in our home directory to download files and run ISCE from"
   ]
  },
  {
   "cell_type": "code",
   "execution_count": 4,
   "id": "9c8cdd5a-6abb-4d55-b4f5-72800e52a148",
   "metadata": {},
   "outputs": [
    {
     "data": {
      "text/plain": [
       "'/Users/jacktarricone'"
      ]
     },
     "execution_count": 4,
     "metadata": {},
     "output_type": "execute_result"
    }
   ],
   "source": [
    "# get home dir\n",
    "home = '/Users/jacktarricone/'\n",
    "os.chdir(home)\n",
    "os.getcwd()"
   ]
  },
  {
   "cell_type": "code",
   "execution_count": 5,
   "id": "04dc3e7a-2122-498f-b6a7-b45cc8a32255",
   "metadata": {},
   "outputs": [],
   "source": [
    "# working folder name\n",
    "isce_directory = 'jemez_isce'\n",
    "    \n",
    "# path to folder\n",
    "working_dir = os.path.join(home,isce_directory)"
   ]
  },
  {
   "cell_type": "code",
   "execution_count": 6,
   "id": "7d9faa0b-55d8-497c-b185-bcc7a52e670e",
   "metadata": {},
   "outputs": [
    {
     "name": "stdout",
     "output_type": "stream",
     "text": [
      "Directory 'jemez_isce' created\n"
     ]
    }
   ],
   "source": [
    "# make new folder\n",
    "#os.mkdir(working_dir)\n",
    "print(\"Directory '%s' created\" %isce_directory)"
   ]
  },
  {
   "cell_type": "code",
   "execution_count": 7,
   "id": "f9115134-7567-4195-9bef-55ceed84a8e5",
   "metadata": {},
   "outputs": [
    {
     "data": {
      "text/plain": [
       "'/Users/jacktarricone/jemez_isce'"
      ]
     },
     "execution_count": 7,
     "metadata": {},
     "output_type": "execute_result"
    }
   ],
   "source": [
    "# nativate to new folder\n",
    "os.chdir(working_dir)\n",
    "os.getcwd()"
   ]
  },
  {
   "cell_type": "code",
   "execution_count": 15,
   "id": "046e1a12-93eb-4929-9281-74f119e1b304",
   "metadata": {},
   "outputs": [],
   "source": [
    "## create subdirectories\n",
    "\n",
    "# download\n",
    "dl = 'download'\n",
    "download_path = os.path.join(working_dir,dl)\n",
    "#os.mkdir(download_path)\n",
    "\n",
    "# slc\n",
    "SLC = 'SLC'\n",
    "slc_path = os.path.join(working_dir,SLC)\n",
    "#os.mkdir(slc_path)\n",
    "\n",
    "# baselines\n",
    "bl = 'baselines'\n",
    "baselines_path = os.path.join(working_dir,bl)\n",
    "#os.mkdir(baselines_path)\n",
    "\n",
    "# referenceShelve\n",
    "rs = 'referenceShelve'\n",
    "referenceShelve_path = os.path.join(working_dir,rs)\n",
    "#os.mkdir(referenceShelve_path)\n",
    "\n",
    "# dem\n",
    "dem = 'DEM'\n",
    "dem_path = os.path.join(working_dir,dem)\n",
    "#os.mkdir(dem_path)\n",
    "\n",
    "# igrams\n",
    "igrams = 'igrams'\n",
    "igrams_path = os.path.join(working_dir,igrams)\n",
    "#os.mkdir(igrams_path)"
   ]
  },
  {
   "cell_type": "code",
   "execution_count": 17,
   "id": "fbe98cc4-1e0f-403f-9926-b1cd44b5bf7c",
   "metadata": {},
   "outputs": [
    {
     "name": "stdout",
     "output_type": "stream",
     "text": [
      "/Users/jacktarricone/jemez_isce/SLC\n",
      "/Users/jacktarricone/jemez_isce/referenceShelve\n",
      "/Users/jacktarricone/jemez_isce/igrams\n",
      "/Users/jacktarricone/jemez_isce/download\n",
      "/Users/jacktarricone/jemez_isce/DEM\n",
      "/Users/jacktarricone/jemez_isce/baselines\n"
     ]
    }
   ],
   "source": [
    "# check folders were created\n",
    "for file in os.listdir(working_dir):\n",
    "    d = os.path.join(working_dir, file)\n",
    "    if os.path.isdir(d):\n",
    "        print(d)"
   ]
  },
  {
   "cell_type": "markdown",
   "id": "462c5e94-fbae-485d-9b6f-f7d0006e5d98",
   "metadata": {},
   "source": [
    "## Data Download"
   ]
  },
  {
   "cell_type": "markdown",
   "id": "c4294960-8134-4461-8959-e57b84c85f44",
   "metadata": {},
   "source": [
    "Data links can be found on the UAVSAR site [here](https://uavsar.jpl.nasa.gov/cgi-bin/product.pl?jobName=alamos_35915_01#data\"). In this case we'll be using SLCs from Feb 12th and 26th, 2x8 SLC spacing given it's the same as the LLH and LKV files, and just the HH polarization. By selecting these options, the site generates the list of ```wget``` download commands below."
   ]
  },
  {
   "cell_type": "markdown",
   "id": "c6b72f4b-5e57-4fef-a01b-1f490e20afcf",
   "metadata": {},
   "source": [
    " <p align=\"left\">\n",
    "  <img width=\"600\" src=\"imgs/uavsar_data_portal.png\">\n",
    "</p>     \n",
    "<p style=\"text-align: center;\">\n",
    "    (Data download screen)\n",
    "</p>"
   ]
  },
  {
   "cell_type": "markdown",
   "id": "54ab0711-60df-4c81-8454-816af618bac4",
   "metadata": {},
   "source": [
    "Here the links are formatted as a string and saved as an exeutable shell file (.sh). This can also be down outside of this notebook by copying the links directly from the UAVSAR data portal and saving into your local text editor."
   ]
  },
  {
   "cell_type": "code",
   "execution_count": 10,
   "id": "b53d4cdb-c04a-4a73-9890-aa5ab75be95b",
   "metadata": {},
   "outputs": [
    {
     "data": {
      "text/plain": [
       "'/Users/jacktarricone/jemez_isce/download'"
      ]
     },
     "execution_count": 10,
     "metadata": {},
     "output_type": "execute_result"
    }
   ],
   "source": [
    "# nativate to download folder\n",
    "os.chdir(download_path)\n",
    "os.getcwd()"
   ]
  },
  {
   "cell_type": "code",
   "execution_count": 11,
   "id": "ec56f499-006d-46d1-964d-6e82e4e54db9",
   "metadata": {},
   "outputs": [],
   "source": [
    "# create .sh file from links\n",
    "\n",
    "links = ['wget https://downloaduav2.jpl.nasa.gov/Release30/alamos_35915_01/alamos_35915_01_BU.dop',\n",
    "         'wget https://downloaduav2.jpl.nasa.gov/Release30/alamos_35915_01/alamos_35915_01_BU_s1_2x8.llh',\n",
    "         'wget https://downloaduav2.jpl.nasa.gov/Release30/alamos_35915_01/alamos_35915_01_BU_s1_2x8.lkv',\n",
    "         'wget https://downloaduav2.jpl.nasa.gov/Release30/alamos_35915_01/alamos_35915_20005_003_200212_L090HH_01_BU_s1_2x8.slc',\n",
    "         'wget https://downloaduav2.jpl.nasa.gov/Release30/alamos_35915_01/alamos_35915_20005_003_200212_L090HH_01_BU.ann',\n",
    "         'wget https://downloaduav2.jpl.nasa.gov/Release30/alamos_35915_01/alamos_35915_20013_000_200226_L090HH_01_BU_s1_2x8.slc',\n",
    "         'wget https://downloaduav2.jpl.nasa.gov/Release30/alamos_35915_01/alamos_35915_20013_000_200226_L090HH_01_BU.ann']\n",
    "\n",
    "with open('downloads.sh', 'w') as f:\n",
    "    for links in links:\n",
    "        f.write(links)\n",
    "        f.write('\\n')"
   ]
  },
  {
   "cell_type": "code",
   "execution_count": 12,
   "id": "a0e091e0-d34a-48df-9472-cc63ae6d1a2b",
   "metadata": {},
   "outputs": [
    {
     "name": "stdout",
     "output_type": "stream",
     "text": [
      "--2022-06-27 12:40:56--  https://downloaduav2.jpl.nasa.gov/Release30/alamos_35915_01/alamos_35915_01_BU.dop\n",
      "Resolving downloaduav2.jpl.nasa.gov (downloaduav2.jpl.nasa.gov)... 137.78.249.121\n",
      "Connecting to downloaduav2.jpl.nasa.gov (downloaduav2.jpl.nasa.gov)|137.78.249.121|:443... connected.\n",
      "HTTP request sent, awaiting response... 200 OK\n",
      "Length: 248175 (242K)\n",
      "Saving to: ‘alamos_35915_01_BU.dop’\n",
      "\n",
      "alamos_35915_01_BU. 100%[===================>] 242.36K  1.32MB/s    in 0.2s    \n",
      "\n",
      "2022-06-27 12:40:57 (1.32 MB/s) - ‘alamos_35915_01_BU.dop’ saved [248175/248175]\n",
      "\n",
      "--2022-06-27 12:40:57--  https://downloaduav2.jpl.nasa.gov/Release30/alamos_35915_01/alamos_35915_01_BU_s1_2x8.llh\n",
      "Resolving downloaduav2.jpl.nasa.gov (downloaduav2.jpl.nasa.gov)... 137.78.249.121\n",
      "Connecting to downloaduav2.jpl.nasa.gov (downloaduav2.jpl.nasa.gov)|137.78.249.121|:443... connected.\n",
      "HTTP request sent, awaiting response... 200 OK\n",
      "Length: 506808720 (483M)\n",
      "Saving to: ‘alamos_35915_01_BU_s1_2x8.llh’\n",
      "\n",
      "alamos_35915_01_BU_ 100%[===================>] 483.33M  8.60MB/s    in 49s     \n",
      "\n",
      "2022-06-27 12:41:46 (9.90 MB/s) - ‘alamos_35915_01_BU_s1_2x8.llh’ saved [506808720/506808720]\n",
      "\n",
      "--2022-06-27 12:41:46--  https://downloaduav2.jpl.nasa.gov/Release30/alamos_35915_01/alamos_35915_01_BU_s1_2x8.lkv\n",
      "Resolving downloaduav2.jpl.nasa.gov (downloaduav2.jpl.nasa.gov)... 137.78.249.121\n",
      "Connecting to downloaduav2.jpl.nasa.gov (downloaduav2.jpl.nasa.gov)|137.78.249.121|:443... connected.\n",
      "HTTP request sent, awaiting response... 200 OK\n",
      "Length: 506808720 (483M)\n",
      "Saving to: ‘alamos_35915_01_BU_s1_2x8.lkv’\n",
      "\n",
      "alamos_35915_01_BU_ 100%[===================>] 483.33M  9.01MB/s    in 36s     \n",
      "\n",
      "2022-06-27 12:42:21 (13.6 MB/s) - ‘alamos_35915_01_BU_s1_2x8.lkv’ saved [506808720/506808720]\n",
      "\n",
      "--2022-06-27 12:42:21--  https://downloaduav2.jpl.nasa.gov/Release30/alamos_35915_01/alamos_35915_20005_003_200212_L090HH_01_BU_s1_2x8.slc\n",
      "Resolving downloaduav2.jpl.nasa.gov (downloaduav2.jpl.nasa.gov)... 137.78.249.121\n",
      "Connecting to downloaduav2.jpl.nasa.gov (downloaduav2.jpl.nasa.gov)|137.78.249.121|:443... connected.\n",
      "HTTP request sent, awaiting response... 200 OK\n",
      "Length: 337872480 (322M) [application/vnd.wap.slc]\n",
      "Saving to: ‘alamos_35915_20005_003_200212_L090HH_01_BU_s1_2x8.slc’\n",
      "\n",
      "alamos_35915_20005_ 100%[===================>] 322.22M  8.81MB/s    in 17s     \n",
      "\n",
      "2022-06-27 12:42:39 (18.8 MB/s) - ‘alamos_35915_20005_003_200212_L090HH_01_BU_s1_2x8.slc’ saved [337872480/337872480]\n",
      "\n",
      "--2022-06-27 12:42:39--  https://downloaduav2.jpl.nasa.gov/Release30/alamos_35915_01/alamos_35915_20005_003_200212_L090HH_01_BU.ann\n",
      "Resolving downloaduav2.jpl.nasa.gov (downloaduav2.jpl.nasa.gov)... 137.78.249.121\n",
      "Connecting to downloaduav2.jpl.nasa.gov (downloaduav2.jpl.nasa.gov)|137.78.249.121|:443... connected.\n",
      "HTTP request sent, awaiting response... 200 OK\n",
      "Length: 24877 (24K) [text/plain]\n",
      "Saving to: ‘alamos_35915_20005_003_200212_L090HH_01_BU.ann’\n",
      "\n",
      "alamos_35915_20005_ 100%[===================>]  24.29K  --.-KB/s    in 0.04s   \n",
      "\n",
      "2022-06-27 12:42:39 (562 KB/s) - ‘alamos_35915_20005_003_200212_L090HH_01_BU.ann’ saved [24877/24877]\n",
      "\n",
      "--2022-06-27 12:42:39--  https://downloaduav2.jpl.nasa.gov/Release30/alamos_35915_01/alamos_35915_20013_000_200226_L090HH_01_BU_s1_2x8.slc\n",
      "Resolving downloaduav2.jpl.nasa.gov (downloaduav2.jpl.nasa.gov)... 137.78.249.121\n",
      "Connecting to downloaduav2.jpl.nasa.gov (downloaduav2.jpl.nasa.gov)|137.78.249.121|:443... connected.\n",
      "HTTP request sent, awaiting response... 200 OK\n",
      "Length: 337872480 (322M) [application/vnd.wap.slc]\n",
      "Saving to: ‘alamos_35915_20013_000_200226_L090HH_01_BU_s1_2x8.slc’\n",
      "\n",
      "alamos_35915_20013_ 100%[===================>] 322.22M  9.40MB/s    in 22s     \n",
      "\n",
      "2022-06-27 12:43:01 (14.7 MB/s) - ‘alamos_35915_20013_000_200226_L090HH_01_BU_s1_2x8.slc’ saved [337872480/337872480]\n",
      "\n",
      "--2022-06-27 12:43:01--  https://downloaduav2.jpl.nasa.gov/Release30/alamos_35915_01/alamos_35915_20013_000_200226_L090HH_01_BU.ann\n",
      "Resolving downloaduav2.jpl.nasa.gov (downloaduav2.jpl.nasa.gov)... 137.78.249.121\n",
      "Connecting to downloaduav2.jpl.nasa.gov (downloaduav2.jpl.nasa.gov)|137.78.249.121|:443... connected.\n",
      "HTTP request sent, awaiting response... 200 OK\n",
      "Length: 24877 (24K) [text/plain]\n",
      "Saving to: ‘alamos_35915_20013_000_200226_L090HH_01_BU.ann’\n",
      "\n",
      "alamos_35915_20013_ 100%[===================>]  24.29K  --.-KB/s    in 0.04s   \n",
      "\n",
      "2022-06-27 12:43:02 (577 KB/s) - ‘alamos_35915_20013_000_200226_L090HH_01_BU.ann’ saved [24877/24877]\n",
      "\n"
     ]
    }
   ],
   "source": [
    "# ! sh downloads.sh"
   ]
  },
  {
   "cell_type": "code",
   "execution_count": 20,
   "id": "44960d62-5339-4964-baf4-52813b667dd8",
   "metadata": {},
   "outputs": [
    {
     "name": "stdout",
     "output_type": "stream",
     "text": [
      "['alamos_35915_01_BU.dop', 'alamos_35915_20013_000_200226_L090HH_01_BU_s1_2x8.slc', 'alamos_35915_01_BU_s1_2x8.llh', 'alamos_35915_01_BU_s1_2x8.lkv', 'alamos_35915_20005_003_200212_L090HH_01_BU_s1_2x8.slc', 'alamos_35915_20005_003_200212_L090HH_01_BU.ann', 'alamos_35915_20013_000_200226_L090HH_01_BU.ann', 'downloads.sh']\n",
      "/Users/jacktarricone/jemez_isce/download/alamos_35915_01_BU.dop\n",
      "/Users/jacktarricone/jemez_isce/download/.DS_Store\n",
      "/Users/jacktarricone/jemez_isce/download/alamos_35915_20013_000_200226_L090HH_01_BU_s1_2x8.slc\n",
      "/Users/jacktarricone/jemez_isce/download/alamos_35915_01_BU_s1_2x8.llh\n",
      "/Users/jacktarricone/jemez_isce/download/alamos_35915_01_BU_s1_2x8.lkv\n",
      "/Users/jacktarricone/jemez_isce/download/alamos_35915_20005_003_200212_L090HH_01_BU_s1_2x8.slc\n",
      "/Users/jacktarricone/jemez_isce/download/alamos_35915_20005_003_200212_L090HH_01_BU.ann\n",
      "/Users/jacktarricone/jemez_isce/download/alamos_35915_20013_000_200226_L090HH_01_BU.ann\n",
      "/Users/jacktarricone/jemez_isce/download/downloads.sh\n"
     ]
    }
   ],
   "source": [
    "# check folders were created\n",
    "for i in os.listdir(download_path):\n",
    "    file = os.path.join(download_path, i)\n",
    "    print(file)"
   ]
  },
  {
   "cell_type": "code",
   "execution_count": null,
   "id": "f11a50ca-6546-4491-a5f3-9c022656b507",
   "metadata": {},
   "outputs": [],
   "source": [
    "# move doppler file to working directory\n",
    "shutil.move(\"alamos_35915_01_BU.dop\", \"/Users/jacktarricone/jemez_isce/alamos_35915_01_BU.dop\")"
   ]
  },
  {
   "cell_type": "code",
   "execution_count": null,
   "id": "8f741aaa-d20a-43bc-98e8-810c418a13f6",
   "metadata": {},
   "outputs": [],
   "source": [
    "! prepareUAVSAR_coregStack_segmets.py -h"
   ]
  },
  {
   "cell_type": "code",
   "execution_count": null,
   "id": "5acc7c85-f62e-4073-a036-a8347cdc84e9",
   "metadata": {},
   "outputs": [],
   "source": [
    "! dem.py"
   ]
  },
  {
   "cell_type": "code",
   "execution_count": null,
   "id": "15698b72-4f90-49eb-8bd1-a8568b31412b",
   "metadata": {},
   "outputs": [],
   "source": []
  }
 ],
 "metadata": {
  "kernelspec": {
   "display_name": "Python [conda env:isce2_env]",
   "language": "python",
   "name": "conda-env-isce2_env-py"
  },
  "language_info": {
   "codemirror_mode": {
    "name": "ipython",
    "version": 3
   },
   "file_extension": ".py",
   "mimetype": "text/x-python",
   "name": "python",
   "nbconvert_exporter": "python",
   "pygments_lexer": "ipython3",
   "version": "3.9.13"
  }
 },
 "nbformat": 4,
 "nbformat_minor": 5
}
