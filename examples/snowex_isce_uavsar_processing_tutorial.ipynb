{
 "cells": [
  {
   "cell_type": "markdown",
   "id": "8f8708c0-1000-4ca8-a8d2-adf18061055a",
   "metadata": {},
   "source": [
    "# ISCE Processing of SnowEx UAVSAR data\n",
    "By: **Jack Tarricone** *(University of Nevada, Reno)* \\\n",
    "Guidance from: **Sam Neitlich** *(Montana State/JPL)*, **Yungling Lou** *(JPL)*, **Zach Keskenin** *(Boise State)*, **Ross Palomaki** *(Montana State)*, **Naheem Adebisi** *(Boise State)*"
   ]
  },
  {
   "cell_type": "markdown",
   "id": "72fb5d59-616c-4f68-a221-cb753a7ec974",
   "metadata": {},
   "source": [
    "Create new conda environment to install ISCE in\n",
    "```\n",
    "conda config --add channels conda-forge\n",
    "conda config --set channel_priority strict\n",
    "conda create -n isce2_env python=3.9 isce2=2.5.2\n",
    "conda activate isce2_env\n",
    "```\n",
    "\n",
    "In the terminal, navigate to the home directory and open your ```.zprofile``` or ```.bash_profile```. In this case I'm using the [Atom](https://atom.io/) text editor\n",
    "```\n",
    "cd ~\n",
    "atom .zprofile\n",
    "```\n",
    "\n",
    "Add these lines\n",
    "```\n",
    "export ISCE_HOME=~/miniconda3/envs/isce2_env/lib/python3.9/site-packages/isce\n",
    "export ISCE_STACK=~/miniconda3/envs/isce2_env/share/isce2/stripmapStack\n",
    "export PATH=$PATH:$ISCE_HOME/bin:$ISCE_HOME/applications:$ISCE_STACK\n",
    "```\n",
    "\n",
    "Back in the terminal\n",
    "```\n",
    "source .zprofile\n",
    "```"
   ]
  },
  {
   "cell_type": "code",
   "execution_count": 1,
   "id": "5d8f648b-3409-4ba6-a829-3766e6f5ef32",
   "metadata": {
    "tags": []
   },
   "outputs": [
    {
     "name": "stdout",
     "output_type": "stream",
     "text": [
      "This is the Open Source version of ISCE.\n",
      "Some of the workflows depend on a separate licensed package.\n",
      "To obtain the licensed package, please make a request for ISCE\n",
      "through the website: https://download.jpl.nasa.gov/ops/request/index.cfm.\n",
      "Alternatively, if you are a member, or can become a member of WinSAR\n",
      "you may be able to obtain access to a version of the licensed sofware at\n",
      "https://winsar.unavco.org/software/isce\n"
     ]
    }
   ],
   "source": [
    "import isce\n",
    "import os\n",
    "import glob\n",
    "import numpy as np\n",
    "import shutil\n",
    "from osgeo import gdal\n",
    "#import matplotlib.pyplot as plt\n",
    "#import rasterio as rio\n",
    "#import uavsar_pytools"
   ]
  },
  {
   "cell_type": "markdown",
   "id": "9f9c5462-5020-4543-99e1-d4a5a3c8fe2f",
   "metadata": {},
   "source": [
    "This tutorial is a recreation of the processing steps outlined [IsceUAVSARprocessing.ipynb](https://github.com/taliboliver/Isce_UAVSAR/blob/master/IsceUAVSARprocessing.ipynb), with addtional functionality added by the ```uavsar_pytools``` package. It is assumed that users have ISCE installed on thier local machines, which admittedly can be the most challenging step in this process.  For information on ISCE installoation please see the [Isce_UAVSAR](https://github.com/taliboliver/Isce_UAVSAR) by **Talib Oliver** *(JPL)* or Eric fieldings (find link from Zach)\n",
    "\n",
    "In this notebook, we will interfermoterically process SLC stack from the Jemez Mountains, NM using the [Interferometric synthetic aperture radar Scientific Computing Environment (ISCE2)](https://github.com/isce-framework/isce2). We will then phase unwrap using [SNAPHU](https://web.stanford.edu/group/radar/softwareandlinks/sw/snaphu/), and geolocate the SLC data using ```geolocate_uavsar()```.\n",
    "\n",
    "Past tutorials have assumed that your Jupyter environment will natively run command line code. In this notebook will run ISCE using python functionality."
   ]
  },
  {
   "cell_type": "markdown",
   "id": "6d559c04-4b10-424f-970a-d44d5b3bb821",
   "metadata": {},
   "source": [
    "# Create folder to work out of\n",
    "First we'll create a new folder in our home directory to download files and run ISCE from"
   ]
  },
  {
   "cell_type": "code",
   "execution_count": 2,
   "id": "9c8cdd5a-6abb-4d55-b4f5-72800e52a148",
   "metadata": {},
   "outputs": [
    {
     "data": {
      "text/plain": [
       "'/Users/jacktarricone'"
      ]
     },
     "execution_count": 2,
     "metadata": {},
     "output_type": "execute_result"
    }
   ],
   "source": [
    "# get home dir\n",
    "home = '/Users/jacktarricone/'\n",
    "os.chdir(home)\n",
    "os.getcwd()"
   ]
  },
  {
   "cell_type": "code",
   "execution_count": 3,
   "id": "04dc3e7a-2122-498f-b6a7-b45cc8a32255",
   "metadata": {},
   "outputs": [],
   "source": [
    "# working folder name\n",
    "isce_directory = 'jemez_isce'\n",
    "    \n",
    "# path to folder\n",
    "working_dir = os.path.join(home,isce_directory)"
   ]
  },
  {
   "cell_type": "code",
   "execution_count": 4,
   "id": "7d9faa0b-55d8-497c-b185-bcc7a52e670e",
   "metadata": {},
   "outputs": [
    {
     "name": "stdout",
     "output_type": "stream",
     "text": [
      "Directory 'jemez_isce' created\n"
     ]
    }
   ],
   "source": [
    "# make new folder\n",
    "#os.mkdir(working_dir)\n",
    "print(\"Directory '%s' created\" %isce_directory)"
   ]
  },
  {
   "cell_type": "code",
   "execution_count": 5,
   "id": "f9115134-7567-4195-9bef-55ceed84a8e5",
   "metadata": {},
   "outputs": [
    {
     "data": {
      "text/plain": [
       "'/Users/jacktarricone/jemez_isce'"
      ]
     },
     "execution_count": 5,
     "metadata": {},
     "output_type": "execute_result"
    }
   ],
   "source": [
    "# nativate to new folder\n",
    "os.chdir(working_dir)\n",
    "os.getcwd()"
   ]
  },
  {
   "cell_type": "code",
   "execution_count": 6,
   "id": "046e1a12-93eb-4929-9281-74f119e1b304",
   "metadata": {},
   "outputs": [],
   "source": [
    "## create subdirectories\n",
    "\n",
    "# download\n",
    "dl = 'download'\n",
    "download_path = os.path.join(working_dir,dl)\n",
    "#os.mkdir(download_path)\n",
    "\n",
    "# slc\n",
    "SLC = 'SLC'\n",
    "slc_path = os.path.join(working_dir,SLC)\n",
    "#os.mkdir(slc_path)\n",
    "\n",
    "# baselines\n",
    "bl = 'baselines'\n",
    "baselines_path = os.path.join(working_dir,bl)\n",
    "#os.mkdir(baselines_path)\n",
    "\n",
    "# referenceShelve\n",
    "rs = 'referenceShelve'\n",
    "referenceShelve_path = os.path.join(working_dir,rs)\n",
    "#os.mkdir(referenceShelve_path)\n",
    "\n",
    "# dem\n",
    "dem = 'DEM'\n",
    "dem_path = os.path.join(working_dir,dem)\n",
    "#os.mkdir(dem_path)\n",
    "\n",
    "# igrams\n",
    "igrams = 'igrams'\n",
    "igrams_path = os.path.join(working_dir,igrams)\n",
    "#os.mkdir(igrams_path)"
   ]
  },
  {
   "cell_type": "code",
   "execution_count": 7,
   "id": "fbe98cc4-1e0f-403f-9926-b1cd44b5bf7c",
   "metadata": {},
   "outputs": [
    {
     "name": "stdout",
     "output_type": "stream",
     "text": [
      "/Users/jacktarricone/jemez_isce/SLC\n",
      "/Users/jacktarricone/jemez_isce/referenceShelve\n",
      "/Users/jacktarricone/jemez_isce/igrams\n",
      "/Users/jacktarricone/jemez_isce/download\n",
      "/Users/jacktarricone/jemez_isce/DEM\n",
      "/Users/jacktarricone/jemez_isce/baselines\n"
     ]
    }
   ],
   "source": [
    "# check folders were created\n",
    "for file in os.listdir(working_dir):\n",
    "    d = os.path.join(working_dir, file)\n",
    "    if os.path.isdir(d):\n",
    "        print(d)"
   ]
  },
  {
   "cell_type": "markdown",
   "id": "462c5e94-fbae-485d-9b6f-f7d0006e5d98",
   "metadata": {},
   "source": [
    "## Data Download"
   ]
  },
  {
   "cell_type": "markdown",
   "id": "c4294960-8134-4461-8959-e57b84c85f44",
   "metadata": {},
   "source": [
    "Data links can be found on the UAVSAR site [here](https://uavsar.jpl.nasa.gov/cgi-bin/product.pl?jobName=alamos_35915_01#data\"). In this case we'll be using SLCs from Feb 12th and 26th, both the LLH and LKV files, 1x1 pixel spacing, and just the HH polarization. By selecting these options, the site generates the list of ```wget``` download commands below."
   ]
  },
  {
   "cell_type": "markdown",
   "id": "c6b72f4b-5e57-4fef-a01b-1f490e20afcf",
   "metadata": {},
   "source": [
    " <p align=\"left\">\n",
    "  <img width=\"600\" src=\"imgs/uavsar_data_portal.png\">\n",
    "</p>     \n",
    "<p style=\"text-align: center;\">\n",
    "    (Data download screen)\n",
    "</p>"
   ]
  },
  {
   "cell_type": "markdown",
   "id": "54ab0711-60df-4c81-8454-816af618bac4",
   "metadata": {},
   "source": [
    "Here the links are formatted as a string and saved as an exeutable shell file (.sh). This can also be down outside of this notebook by copying the links directly from the UAVSAR data portal and saving into your local text editor."
   ]
  },
  {
   "cell_type": "code",
   "execution_count": 8,
   "id": "b53d4cdb-c04a-4a73-9890-aa5ab75be95b",
   "metadata": {},
   "outputs": [
    {
     "data": {
      "text/plain": [
       "'/Users/jacktarricone/jemez_isce/download'"
      ]
     },
     "execution_count": 8,
     "metadata": {},
     "output_type": "execute_result"
    }
   ],
   "source": [
    "# nativate to download folder\n",
    "os.chdir(download_path)\n",
    "os.getcwd()"
   ]
  },
  {
   "cell_type": "code",
   "execution_count": 9,
   "id": "ec56f499-006d-46d1-964d-6e82e4e54db9",
   "metadata": {},
   "outputs": [],
   "source": [
    "# create .sh file from links\n",
    "\n",
    "links = ['wget https://downloaduav2.jpl.nasa.gov/Release30/alamos_35915_01/alamos_35915_01_BU.dop',\n",
    "         'wget https://downloaduav2.jpl.nasa.gov/Release30/alamos_35915_01/alamos_35915_01_BU_s1_2x8.llh',\n",
    "         'wget https://downloaduav2.jpl.nasa.gov/Release30/alamos_35915_01/alamos_35915_01_BU_s1_2x8.lkv',\n",
    "         'wget https://downloaduav2.jpl.nasa.gov/Release30/alamos_35915_01/alamos_35915_20005_003_200212_L090HH_01_BU_s1_1x1.slc',\n",
    "         'wget https://downloaduav2.jpl.nasa.gov/Release30/alamos_35915_01/alamos_35915_20005_003_200212_L090HH_01_BU.ann',\n",
    "         'wget https://downloaduav2.jpl.nasa.gov/Release30/alamos_35915_01/alamos_35915_20013_000_200226_L090HH_01_BU_s1_1x1.slc',\n",
    "         'wget https://downloaduav2.jpl.nasa.gov/Release30/alamos_35915_01/alamos_35915_20013_000_200226_L090HH_01_BU.ann']\n",
    "\n",
    "with open('downloads.sh', 'w') as f:\n",
    "    for links in links:\n",
    "        f.write(links)\n",
    "        f.write('\\n')"
   ]
  },
  {
   "cell_type": "code",
   "execution_count": 10,
   "id": "a0e091e0-d34a-48df-9472-cc63ae6d1a2b",
   "metadata": {},
   "outputs": [],
   "source": [
    "# ! sh downloads.sh"
   ]
  },
  {
   "cell_type": "code",
   "execution_count": 11,
   "id": "44960d62-5339-4964-baf4-52813b667dd8",
   "metadata": {},
   "outputs": [
    {
     "name": "stdout",
     "output_type": "stream",
     "text": [
      "/Users/jacktarricone/jemez_isce/download/alamos_35915_01_BU.dop\n",
      "/Users/jacktarricone/jemez_isce/download/.DS_Store\n",
      "/Users/jacktarricone/jemez_isce/download/alamos_35915_20005_003_200212_L090HH_01_BU_s1_1x1.slc\n",
      "/Users/jacktarricone/jemez_isce/download/alamos_35915_01_BU_s1_2x8.llh\n",
      "/Users/jacktarricone/jemez_isce/download/alamos_35915_01_BU_s1_2x8.lkv\n",
      "/Users/jacktarricone/jemez_isce/download/alamos_35915_20005_003_200212_L090HH_01_BU.ann\n",
      "/Users/jacktarricone/jemez_isce/download/alamos_35915_20013_000_200226_L090HH_01_BU_s1_1x1.slc\n",
      "/Users/jacktarricone/jemez_isce/download/alamos_35915_20013_000_200226_L090HH_01_BU.ann\n",
      "/Users/jacktarricone/jemez_isce/download/downloads.sh\n"
     ]
    }
   ],
   "source": [
    "# list files downloaded\n",
    "for i in os.listdir(download_path):\n",
    "    file = os.path.join(download_path, i)\n",
    "    print(file)"
   ]
  },
  {
   "cell_type": "markdown",
   "id": "76f8b436-0bc3-40fe-8d8a-5b420bb620de",
   "metadata": {},
   "source": [
    "## Prepare SLC Stack"
   ]
  },
  {
   "cell_type": "code",
   "execution_count": 12,
   "id": "97996001-e236-4041-b06d-0170ff359f97",
   "metadata": {},
   "outputs": [
    {
     "data": {
      "text/plain": [
       "'/Users/jacktarricone/jemez_isce'"
      ]
     },
     "execution_count": 12,
     "metadata": {},
     "output_type": "execute_result"
    }
   ],
   "source": [
    "# nativate to download folder\n",
    "os.chdir(working_dir)\n",
    "os.getcwd()"
   ]
  },
  {
   "cell_type": "code",
   "execution_count": 13,
   "id": "4977e685-88f9-454e-8f5d-a467526f9f65",
   "metadata": {},
   "outputs": [
    {
     "data": {
      "text/plain": [
       "'/Users/jacktarricone/jemez_isce/alamos_35915_01_BU.dop'"
      ]
     },
     "execution_count": 13,
     "metadata": {},
     "output_type": "execute_result"
    }
   ],
   "source": [
    "# copy doppler file to working directory\n",
    "shutil.copy(\"/Users/jacktarricone/jemez_isce/download/alamos_35915_01_BU.dop\", \n",
    "            \"/Users/jacktarricone/jemez_isce/alamos_35915_01_BU.dop\")"
   ]
  },
  {
   "cell_type": "code",
   "execution_count": 14,
   "id": "8f741aaa-d20a-43bc-98e8-810c418a13f6",
   "metadata": {},
   "outputs": [
    {
     "name": "stdout",
     "output_type": "stream",
     "text": [
      "This is the Open Source version of ISCE.\n",
      "Some of the workflows depend on a separate licensed package.\n",
      "To obtain the licensed package, please make a request for ISCE\n",
      "through the website: https://download.jpl.nasa.gov/ops/request/index.cfm.\n",
      "Alternatively, if you are a member, or can become a member of WinSAR\n",
      "you may be able to obtain access to a version of the licensed sofware at\n",
      "https://winsar.unavco.org/software/isce\n",
      "usage: prepareUAVSAR_coregStack_segmets.py [-h] -i INPUT -d DOPFILE -o OUTPUT\n",
      "                                           [-s SEGMENT] [-t TEXT_CMD]\n",
      "\n",
      "Unzip Alos zip files.\n",
      "\n",
      "optional arguments:\n",
      "  -h, --help            show this help message and exit\n",
      "  -i INPUT, --input INPUT\n",
      "                        directory which has all dates as directories. Inside\n",
      "                        each date, zip files are expected.\n",
      "  -d DOPFILE, --dop_file DOPFILE\n",
      "                        Doppler file for the stack.\n",
      "  -o OUTPUT, --output OUTPUT\n",
      "                        output directory which will be used for unpacking.\n",
      "  -s SEGMENT, --segment SEGMENT\n",
      "                        segment of the UAVSAR stack to prepare. For \"s2\" use\n",
      "                        \"2\", etc. Default is \"1\"\n",
      "  -t TEXT_CMD, --text_cmd TEXT_CMD\n",
      "                        text command to be added to the beginning of each line\n",
      "                        of the run files. Example : source ~/.bash_profile;\n"
     ]
    }
   ],
   "source": [
    "# check function inputs\n",
    "! prepareUAVSAR_coregStack_segmets.py -h"
   ]
  },
  {
   "cell_type": "markdown",
   "id": "fc840c61-78fd-4722-8644-49d1228a2389",
   "metadata": {},
   "source": [
    "In this case our -i flag will the the download folder, the -d flag will be the doppler file, -o will be the SLC directory."
   ]
  },
  {
   "cell_type": "code",
   "execution_count": 15,
   "id": "5acc7c85-f62e-4073-a036-a8347cdc84e9",
   "metadata": {},
   "outputs": [
    {
     "name": "stdout",
     "output_type": "stream",
     "text": [
      "This is the Open Source version of ISCE.\n",
      "Some of the workflows depend on a separate licensed package.\n",
      "To obtain the licensed package, please make a request for ISCE\n",
      "through the website: https://download.jpl.nasa.gov/ops/request/index.cfm.\n",
      "Alternatively, if you are a member, or can become a member of WinSAR\n",
      "you may be able to obtain access to a version of the licensed sofware at\n",
      "https://winsar.unavco.org/software/isce\n",
      "['download/alamos_35915_20005_003_200212_L090HH_01_BU_s1_1x1.slc', 'download/alamos_35915_20013_000_200226_L090HH_01_BU_s1_1x1.slc']\n",
      "download/alamos_35915_20005_003_200212_L090HH_01_BU.ann\n",
      "12-Feb-2020 15:45:54 UTC\n",
      "20200212T1545\n",
      "download/alamos_35915_20005_003_200212_L090HH_01_BU.ann\n",
      "unpackFrame_UAVSAR_segments.py -i download/alamos_35915_20005_003_200212_L090HH_01_BU.ann -d alamos_35915_01_BU.dop -s 1 -o /Users/jacktarricone/jemez_isce/SLC/20200212T1545\n",
      "This is the Open Source version of ISCE.\n",
      "Some of the workflows depend on a separate licensed package.\n",
      "To obtain the licensed package, please make a request for ISCE\n",
      "through the website: https://download.jpl.nasa.gov/ops/request/index.cfm.\n",
      "Alternatively, if you are a member, or can become a member of WinSAR\n",
      "you may be able to obtain access to a version of the licensed sofware at\n",
      "https://winsar.unavco.org/software/isce\n",
      "UnknownUnitWarning: (1.0) \n",
      "UnknownUnitWarning: (1.0) \n",
      "UnknownUnitWarning: (1.0) \n",
      "2022-06-28 13:55:00,057 - isce.Sensor.UAVSAR_Stack - INFO - extractDoppler: rho0, drho, prf = 11533.5604, 1.66551366, 421.4628489117599\n",
      "2022-06-28 13:55:00,072 - isce.Sensor.UAVSAR_Stack - INFO - coeffs = [ 1.81359173e+00 -1.16613695e-03  3.21803245e-07 -6.47598734e-11\n",
      "  8.13695896e-15 -5.55151173e-19  1.55645082e-23]\n",
      "2022-06-28 13:55:00,072 - isce.Sensor.UAVSAR_Stack - INFO - rms residual = [0.00186841]\n",
      "2022-06-28 13:55:00,115 - isce.Sensor.UAVSAR_Stack - INFO - UAVSAR_Stack.extractDoppler: self.dopplerVals = {'Near': 1.8135917335399936}\n",
      "2022-06-28 13:55:00,115 - isce.Sensor.UAVSAR_Stack - INFO - UAVSAR_Stack.extractDoppler: prf = 421.4628489117599\n",
      "2022-06-28 13:55:00,116 - isce.Sensor.UAVSAR_Stack - INFO - UAVSAR_Stack: peg radius of curvature = 6359894.469397562\n",
      "2022-06-28 13:55:00,117 - isce.Sensor.UAVSAR_Stack - INFO - UAVSAR_Stack: terrain height = 2490.37349\n",
      "2022-06-28 13:55:00,117 - isce.Sensor.UAVSAR_Stack - INFO - key = Segment 1 Data Approximate Corner 1\n",
      "2022-06-28 13:55:00,117 - isce.Sensor.UAVSAR_Stack - INFO - metadata[key] = 35.732368469, -106.314529419\n",
      "2022-06-28 13:55:00,117 - isce.Sensor.UAVSAR_Stack - INFO - key = Segment 1 Data Approximate Corner 2\n",
      "2022-06-28 13:55:00,117 - isce.Sensor.UAVSAR_Stack - INFO - metadata[key] = 35.720275879, -106.553176880\n",
      "2022-06-28 13:55:00,118 - isce.Sensor.UAVSAR_Stack - INFO - key = Segment 1 Data Approximate Corner 3\n",
      "2022-06-28 13:55:00,118 - isce.Sensor.UAVSAR_Stack - INFO - metadata[key] = 36.105346680, -106.334533691\n",
      "2022-06-28 13:55:00,118 - isce.Sensor.UAVSAR_Stack - INFO - key = Segment 1 Data Approximate Corner 4\n",
      "2022-06-28 13:55:00,118 - isce.Sensor.UAVSAR_Stack - INFO - metadata[key] = 36.093379974, -106.563796997\n",
      "mv download/alamos_35915_20005_003_200212_L090HH_01_BU_s1_1x1.slc /Users/jacktarricone/jemez_isce/SLC/20200212T1545\n",
      "cp download/alamos_35915_20005_003_200212_L090HH_01_BU.ann /Users/jacktarricone/jemez_isce/SLC/20200212T1545\n",
      "Sensing Start Time: (2020-02-12 15:45:54)\n",
      "Sensing Mid Time: (2020-02-12 15:47:34.500000)\n",
      "Sensing Stop Time: (2020-02-12 15:49:15)\n",
      "Orbit Number: (None)\n",
      "Frame Number: (1)\n",
      "Track Number: (1)\n",
      "Number of Lines: (69021)\n",
      "Number of Samples: (9789)\n",
      "Starting Range: (11533.5604)\n",
      "Polarization: (HH)\n",
      "Processing Facility: (None)\n",
      "Processing Software: (None)\n",
      "Processing Software Version: (None)\n",
      "\n",
      "9789 69021\n",
      "download/alamos_35915_20013_000_200226_L090HH_01_BU.ann\n",
      "26-Feb-2020 16:27:03 UTC\n",
      "20200226T1627\n",
      "download/alamos_35915_20013_000_200226_L090HH_01_BU.ann\n",
      "unpackFrame_UAVSAR_segments.py -i download/alamos_35915_20013_000_200226_L090HH_01_BU.ann -d alamos_35915_01_BU.dop -s 1 -o /Users/jacktarricone/jemez_isce/SLC/20200226T1627\n",
      "This is the Open Source version of ISCE.\n",
      "Some of the workflows depend on a separate licensed package.\n",
      "To obtain the licensed package, please make a request for ISCE\n",
      "through the website: https://download.jpl.nasa.gov/ops/request/index.cfm.\n",
      "Alternatively, if you are a member, or can become a member of WinSAR\n",
      "you may be able to obtain access to a version of the licensed sofware at\n",
      "https://winsar.unavco.org/software/isce\n",
      "UnknownUnitWarning: (1.0) \n",
      "UnknownUnitWarning: (1.0) \n",
      "UnknownUnitWarning: (1.0) \n",
      "2022-06-28 13:55:00,851 - isce.Sensor.UAVSAR_Stack - INFO - extractDoppler: rho0, drho, prf = 11533.5604, 1.66551366, 421.4628489117599\n",
      "2022-06-28 13:55:00,866 - isce.Sensor.UAVSAR_Stack - INFO - coeffs = [ 1.81359173e+00 -1.16613695e-03  3.21803245e-07 -6.47598734e-11\n",
      "  8.13695896e-15 -5.55151173e-19  1.55645082e-23]\n",
      "2022-06-28 13:55:00,867 - isce.Sensor.UAVSAR_Stack - INFO - rms residual = [0.00186841]\n",
      "2022-06-28 13:55:00,910 - isce.Sensor.UAVSAR_Stack - INFO - UAVSAR_Stack.extractDoppler: self.dopplerVals = {'Near': 1.8135917335399936}\n",
      "2022-06-28 13:55:00,910 - isce.Sensor.UAVSAR_Stack - INFO - UAVSAR_Stack.extractDoppler: prf = 421.4628489117599\n",
      "2022-06-28 13:55:00,912 - isce.Sensor.UAVSAR_Stack - INFO - UAVSAR_Stack: peg radius of curvature = 6359894.469397562\n",
      "2022-06-28 13:55:00,912 - isce.Sensor.UAVSAR_Stack - INFO - UAVSAR_Stack: terrain height = 2490.37349\n",
      "2022-06-28 13:55:00,913 - isce.Sensor.UAVSAR_Stack - INFO - key = Segment 1 Data Approximate Corner 1\n",
      "2022-06-28 13:55:00,913 - isce.Sensor.UAVSAR_Stack - INFO - metadata[key] = 35.732368469, -106.314529419\n",
      "2022-06-28 13:55:00,913 - isce.Sensor.UAVSAR_Stack - INFO - key = Segment 1 Data Approximate Corner 2\n",
      "2022-06-28 13:55:00,913 - isce.Sensor.UAVSAR_Stack - INFO - metadata[key] = 35.720275879, -106.553176880\n",
      "2022-06-28 13:55:00,913 - isce.Sensor.UAVSAR_Stack - INFO - key = Segment 1 Data Approximate Corner 3\n",
      "2022-06-28 13:55:00,913 - isce.Sensor.UAVSAR_Stack - INFO - metadata[key] = 36.105346680, -106.334533691\n",
      "2022-06-28 13:55:00,914 - isce.Sensor.UAVSAR_Stack - INFO - key = Segment 1 Data Approximate Corner 4\n",
      "2022-06-28 13:55:00,914 - isce.Sensor.UAVSAR_Stack - INFO - metadata[key] = 36.093379974, -106.563796997\n",
      "mv download/alamos_35915_20013_000_200226_L090HH_01_BU_s1_1x1.slc /Users/jacktarricone/jemez_isce/SLC/20200226T1627\n",
      "cp download/alamos_35915_20013_000_200226_L090HH_01_BU.ann /Users/jacktarricone/jemez_isce/SLC/20200226T1627\n",
      "Sensing Start Time: (2020-02-26 16:27:03)\n",
      "Sensing Mid Time: (2020-02-26 16:28:53.500000)\n",
      "Sensing Stop Time: (2020-02-26 16:30:44)\n",
      "Orbit Number: (None)\n",
      "Frame Number: (1)\n",
      "Track Number: (1)\n",
      "Number of Lines: (69021)\n",
      "Number of Samples: (9789)\n",
      "Starting Range: (11533.5604)\n",
      "Polarization: (HH)\n",
      "Processing Facility: (None)\n",
      "Processing Software: (None)\n",
      "Processing Software Version: (None)\n",
      "\n",
      "9789 69021\n"
     ]
    }
   ],
   "source": [
    "! prepareUAVSAR_coregStack_segmets.py -i download/ -d alamos_35915_01_BU.dop -o SLC"
   ]
  },
  {
   "cell_type": "code",
   "execution_count": 18,
   "id": "5da723c6-e6e7-4f1c-98c8-b613d1ede2f0",
   "metadata": {},
   "outputs": [
    {
     "name": "stdout",
     "output_type": "stream",
     "text": [
      "/Users/jacktarricone/jemez_isce/SLC/.DS_Store\n",
      "/Users/jacktarricone/jemez_isce/SLC/20200212T1545\n",
      "/Users/jacktarricone/jemez_isce/SLC/20200226T1627\n"
     ]
    }
   ],
   "source": [
    "# list folders just created in slc path\n",
    "for i in os.listdir(slc_path):\n",
    "    file = os.path.join(slc_path, i)\n",
    "    print(file)"
   ]
  },
  {
   "cell_type": "code",
   "execution_count": 16,
   "id": "15698b72-4f90-49eb-8bd1-a8568b31412b",
   "metadata": {},
   "outputs": [
    {
     "name": "stdout",
     "output_type": "stream",
     "text": [
      "Driver: ISCE/ISCE raster\n",
      "Files: /Users/jacktarricone/jemez_isce/SLC/20200212T1545/alamos_35915_20005_003_200212_L090HH_01_BU_s1_1x1.slc\n",
      "       /Users/jacktarricone/jemez_isce/SLC/20200212T1545/alamos_35915_20005_003_200212_L090HH_01_BU_s1_1x1.slc.xml\n",
      "Size is 9789, 69021\n",
      "Coordinate System is:\n",
      "GEOGCRS[\"WGS 84\",\n",
      "    DATUM[\"World Geodetic System 1984\",\n",
      "        ELLIPSOID[\"WGS 84\",6378137,298.257223563,\n",
      "            LENGTHUNIT[\"metre\",1]]],\n",
      "    PRIMEM[\"Greenwich\",0,\n",
      "        ANGLEUNIT[\"degree\",0.0174532925199433]],\n",
      "    CS[ellipsoidal,2],\n",
      "        AXIS[\"geodetic latitude (Lat)\",north,\n",
      "            ORDER[1],\n",
      "            ANGLEUNIT[\"degree\",0.0174532925199433]],\n",
      "        AXIS[\"geodetic longitude (Lon)\",east,\n",
      "            ORDER[2],\n",
      "            ANGLEUNIT[\"degree\",0.0174532925199433]],\n",
      "    ID[\"EPSG\",4326]]\n",
      "Data axis to CRS axis mapping: 2,1\n",
      "Origin = (0.000000000000000,0.000000000000000)\n",
      "Pixel Size = (1.000000000000000,1.000000000000000)\n",
      "Corner Coordinates:\n",
      "Upper Left  (   0.0000000,   0.0000000) (  0d 0' 0.01\"E,  0d 0' 0.01\"N)\n",
      "Lower Left  (       0.000,   69021.000) (  0d 0' 0.01\"E,Invalid angle)\n",
      "Upper Right (    9789.000,       0.000) (Invalid angle,  0d 0' 0.01\"N)\n",
      "Lower Right (    9789.000,   69021.000) (Invalid angle,Invalid angle)\n",
      "Center      (    4894.500,   34510.500) (Invalid angle,Invalid angle)\n",
      "Band 1 Block=9789x1 Type=CFloat32, ColorInterp=Undefined\n"
     ]
    }
   ],
   "source": [
    "# using gdal info the check everything worked\n",
    "! gdalinfo /Users/jacktarricone/jemez_isce/SLC/20200212T1545/alamos_35915_20005_003_200212_L090HH_01_BU_s1_1x1.slc"
   ]
  },
  {
   "cell_type": "code",
   "execution_count": null,
   "id": "61bd9725-a72c-44ed-a2d0-8b44ac65dfff",
   "metadata": {},
   "outputs": [],
   "source": [
    "ds = gdal.Open(\"/Users/jacktarricone/jemez_isce/SLC/20200212T1545/alamos_35915_20005_003_200212_L090HH_01_BU_s1_1x1.slc\", gdal.GA_ReadOnly)\n",
    "# extract a part of the SLC to display\n",
    "x0 = 0\n",
    "y0 = 0\n",
    "x_offset = 9789\n",
    "y_offset = 69021  \n",
    "slc = ds.GetRasterBand(1).ReadAsArray(x0, y0, x_offset, y_offset)\n",
    "ds = None\n",
    "\n",
    "fig = plt.figure(figsize=(14, 12))\n",
    "\n",
    "# display amplitude of the slc\n",
    "ax = fig.add_subplot(1,2,1)\n",
    "ax.imshow(np.abs(slc), vmin = 0, vmax=1, cmap='gray')\n",
    "ax.set_title(\"amplitude\")\n",
    "\n",
    "#display phase of the slc\n",
    "ax = fig.add_subplot(1,2,2)\n",
    "ax.imshow(np.angle(slc))\n",
    "ax.set_title(\"phase\")\n",
    "\n",
    "plt.show()\n",
    "\n",
    "slc = None\n"
   ]
  },
  {
   "cell_type": "code",
   "execution_count": null,
   "id": "34f055ac-46e4-477e-a5e4-80585b3d0f2e",
   "metadata": {},
   "outputs": [],
   "source": []
  }
 ],
 "metadata": {
  "kernelspec": {
   "display_name": "isce2_env",
   "language": "python",
   "name": "isce2_env"
  },
  "language_info": {
   "codemirror_mode": {
    "name": "ipython",
    "version": 3
   },
   "file_extension": ".py",
   "mimetype": "text/x-python",
   "name": "python",
   "nbconvert_exporter": "python",
   "pygments_lexer": "ipython3",
   "version": "3.9.13"
  }
 },
 "nbformat": 4,
 "nbformat_minor": 5
}
