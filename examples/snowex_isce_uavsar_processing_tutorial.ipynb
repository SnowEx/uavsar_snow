{
 "cells": [
  {
   "cell_type": "markdown",
   "id": "8f8708c0-1000-4ca8-a8d2-adf18061055a",
   "metadata": {},
   "source": [
    "# ISCE Processing of SnowEx UAVSAR data\n",
    "By: **Jack Tarricone** *(University of Nevada, Reno)* \\\n",
    "Guidance from: **Sam Neitlich** *(Montana State/JPL)*, **Yungling Lou** *(JPL)*, **Zach Keskenin** *(Boise State)*, **Ross Palomaki** *(Montana State)*, **Naheem Adebisi** *(Boise State)*"
   ]
  },
  {
   "cell_type": "code",
   "execution_count": 2,
   "id": "5d8f648b-3409-4ba6-a829-3766e6f5ef32",
   "metadata": {},
   "outputs": [
    {
     "name": "stdout",
     "output_type": "stream",
     "text": [
      "This is the Open Source version of ISCE.\n",
      "Some of the workflows depend on a separate licensed package.\n",
      "To obtain the licensed package, please make a request for ISCE\n",
      "through the website: https://download.jpl.nasa.gov/ops/request/index.cfm.\n",
      "Alternatively, if you are a member, or can become a member of WinSAR\n",
      "you may be able to obtain access to a version of the licensed sofware at\n",
      "https://winsar.unavco.org/software/isce\n"
     ]
    }
   ],
   "source": [
    "import os\n",
    "import glob\n",
    "import numpy as np\n",
    "import isce\n",
    "#import wget (fix this)\n",
    "#import uavsar_pytools\n",
    "#import matplotlib.pyplot as plt\n",
    "#import matplotlib\n",
    "#import rasterio as rio\n",
    "#from osgeo import gdal\n",
    "#from rasterio.plot import show"
   ]
  },
  {
   "cell_type": "markdown",
   "id": "20fdfa38-427c-4a7d-be93-492413094a22",
   "metadata": {},
   "source": [
    "This tutorial is a recreation of the processing steps outlined [IsceUAVSARprocessing.ipynb](https://github.com/taliboliver/Isce_UAVSAR/blob/master/IsceUAVSARprocessing.ipynb), with addtional functionality added by the ```uavsar_pytools``` package. It is assumed that users have ISCE installed on thier local machines, which admittedly can be the most challenging step in this process.  For information on ISCE installoation please see the [Isce_UAVSAR](https://github.com/taliboliver/Isce_UAVSAR) by **Talib Oliver** *(JPL)* or Eric fieldings (find link from Zach)\n",
    "\n",
    "In this notebook, we will interfermoterically process SLC stack from the Jemez Mountains, NM using the [Interferometric synthetic aperture radar Scientific Computing Environment (ISCE2)](https://github.com/isce-framework/isce2). We will then phase unwrap using [SNAPHU](https://web.stanford.edu/group/radar/softwareandlinks/sw/snaphu/), and geolocate the SLC data using ```geolocate_uavsar()```.\n",
    "\n",
    "Past tutorials have assumed that your Jupyter environment will natively run command line code. In this notebook will run ISCE using python functionality."
   ]
  },
  {
   "cell_type": "markdown",
   "id": "6d559c04-4b10-424f-970a-d44d5b3bb821",
   "metadata": {},
   "source": [
    "## Create folder to work out of\n",
    "First we'll create a new folder in our home directory to download files and run ISCE from"
   ]
  },
  {
   "cell_type": "code",
   "execution_count": 3,
   "id": "9c8cdd5a-6abb-4d55-b4f5-72800e52a148",
   "metadata": {},
   "outputs": [
    {
     "data": {
      "text/plain": [
       "'/Users/jacktarricone'"
      ]
     },
     "execution_count": 3,
     "metadata": {},
     "output_type": "execute_result"
    }
   ],
   "source": [
    "# get home dir\n",
    "home = '/Users/jacktarricone/'\n",
    "os.chdir(home)\n",
    "os.getcwd()"
   ]
  },
  {
   "cell_type": "code",
   "execution_count": 17,
   "id": "04dc3e7a-2122-498f-b6a7-b45cc8a32255",
   "metadata": {},
   "outputs": [],
   "source": [
    "# working folder name\n",
    "isce_directory = 'jemez_isce'\n",
    "    \n",
    "# path to folder\n",
    "working_dir = os.path.join(home,isce_directory)"
   ]
  },
  {
   "cell_type": "code",
   "execution_count": 5,
   "id": "7d9faa0b-55d8-497c-b185-bcc7a52e670e",
   "metadata": {},
   "outputs": [],
   "source": [
    "# make new folder\n",
    "#os.mkdir(path)\n",
    "#print(\"Directory '%s' created\" %isce_directory)"
   ]
  },
  {
   "cell_type": "code",
   "execution_count": 18,
   "id": "f9115134-7567-4195-9bef-55ceed84a8e5",
   "metadata": {},
   "outputs": [
    {
     "data": {
      "text/plain": [
       "'/Users/jacktarricone/jemez_isce'"
      ]
     },
     "execution_count": 18,
     "metadata": {},
     "output_type": "execute_result"
    }
   ],
   "source": [
    "# nativate to new folder\n",
    "os.chdir(working_dir)\n",
    "os.getcwd()"
   ]
  },
  {
   "cell_type": "markdown",
   "id": "462c5e94-fbae-485d-9b6f-f7d0006e5d98",
   "metadata": {},
   "source": [
    "## Data Download"
   ]
  },
  {
   "cell_type": "markdown",
   "id": "c4294960-8134-4461-8959-e57b84c85f44",
   "metadata": {},
   "source": [
    "Data links can be found on the UAVSAR site. In this case we'll be using SLCs from Feb 12th and 26th\n",
    "![](/Users/jacktarricone/uavsar_snow/examples/imgs/uavsar_data_portal.png)\n",
    "\n"
   ]
  },
  {
   "cell_type": "code",
   "execution_count": 14,
   "id": "2a7e1ec6-7b5f-41a8-bf21-5fabe174be30",
   "metadata": {},
   "outputs": [],
   "source": [
    "# create download folder\n",
    "download = 'download'\n",
    "dl = os.path.join(path,download)\n",
    "\n",
    "# create download folder\n",
    "SLC = 'SLC'\n",
    "slc = os.path.join(path,SLC)\n",
    "\n"
   ]
  },
  {
   "cell_type": "code",
   "execution_count": 8,
   "id": "0cd45ce4-ed64-44a8-a6f7-ed2c6e2fd813",
   "metadata": {},
   "outputs": [],
   "source": [
    "#os.mkdir(dl)"
   ]
  },
  {
   "cell_type": "code",
   "execution_count": 15,
   "id": "42e21b73-a737-4911-b4eb-c139464b70b3",
   "metadata": {},
   "outputs": [
    {
     "data": {
      "text/plain": [
       "'/Users/jacktarricone'"
      ]
     },
     "execution_count": 15,
     "metadata": {},
     "output_type": "execute_result"
    }
   ],
   "source": [
    "os.chdir(path)\n",
    "os.getcwd()"
   ]
  },
  {
   "cell_type": "markdown",
   "id": "54ab0711-60df-4c81-8454-816af618bac4",
   "metadata": {},
   "source": [
    "Here the links are formatted as a string, the ```wget``` removed, and saved as a text file. This can also be down outside of this notebook by copying the links directly from the UAVSAR data portal and saving into your local text editor."
   ]
  },
  {
   "cell_type": "code",
   "execution_count": 10,
   "id": "ec56f499-006d-46d1-964d-6e82e4e54db9",
   "metadata": {},
   "outputs": [],
   "source": [
    "links = ['https://downloaduav2.jpl.nasa.gov/Release30/alamos_35915_01/alamos_35915_01_BU.dop',\n",
    "         'https://downloaduav2.jpl.nasa.gov/Release30/alamos_35915_01/alamos_35915_01_BU_s1_2x8.llh',\n",
    "         'https://downloaduav2.jpl.nasa.gov/Release30/alamos_35915_01/alamos_35915_01_BU_s1_2x8.lkv',\n",
    "         'https://downloaduav2.jpl.nasa.gov/Release30/alamos_35915_01/alamos_35915_20005_003_200212_L090HH_01_BU_s1_2x8.slc',\n",
    "         'https://downloaduav2.jpl.nasa.gov/Release30/alamos_35915_01/alamos_35915_20005_003_200212_L090HH_01_BU.ann',\n",
    "         'https://downloaduav2.jpl.nasa.gov/Release30/alamos_35915_01/alamos_35915_20013_000_200226_L090HH_01_BU_s1_2x8.slc',\n",
    "         'https://downloaduav2.jpl.nasa.gov/Release30/alamos_35915_01/alamos_35915_20013_000_200226_L090HH_01_BU.ann']\n",
    "\n",
    "with open('downloads.txt', 'w') as f:\n",
    "    for links in links:\n",
    "        f.write(links)\n",
    "        f.write('\\n')"
   ]
  },
  {
   "cell_type": "code",
   "execution_count": 11,
   "id": "8dd4f38f-dddc-49e4-b819-701510560ffc",
   "metadata": {},
   "outputs": [
    {
     "data": {
      "text/plain": [
       "str"
      ]
     },
     "execution_count": 11,
     "metadata": {},
     "output_type": "execute_result"
    }
   ],
   "source": [
    "type(links)"
   ]
  },
  {
   "cell_type": "code",
   "execution_count": null,
   "id": "a0e091e0-d34a-48df-9472-cc63ae6d1a2b",
   "metadata": {},
   "outputs": [],
   "source": [
    "# import wget\n",
    "# 'http://www.futurecrew.com/skaven/song_files/mp3/razorback.mp3'\n",
    "# filename = wget.download(url)"
   ]
  },
  {
   "cell_type": "code",
   "execution_count": 19,
   "id": "8f741aaa-d20a-43bc-98e8-810c418a13f6",
   "metadata": {},
   "outputs": [
    {
     "name": "stdout",
     "output_type": "stream",
     "text": [
      "This is the Open Source version of ISCE.\n",
      "Some of the workflows depend on a separate licensed package.\n",
      "To obtain the licensed package, please make a request for ISCE\n",
      "through the website: https://download.jpl.nasa.gov/ops/request/index.cfm.\n",
      "Alternatively, if you are a member, or can become a member of WinSAR\n",
      "you may be able to obtain access to a version of the licensed sofware at\n",
      "https://winsar.unavco.org/software/isce\n",
      "usage: prepareUAVSAR_coregStack_segmets.py [-h] -i INPUT -d DOPFILE -o OUTPUT\n",
      "                                           [-s SEGMENT] [-t TEXT_CMD]\n",
      "\n",
      "Unzip Alos zip files.\n",
      "\n",
      "optional arguments:\n",
      "  -h, --help            show this help message and exit\n",
      "  -i INPUT, --input INPUT\n",
      "                        directory which has all dates as directories. Inside\n",
      "                        each date, zip files are expected.\n",
      "  -d DOPFILE, --dop_file DOPFILE\n",
      "                        Doppler file for the stack.\n",
      "  -o OUTPUT, --output OUTPUT\n",
      "                        output directory which will be used for unpacking.\n",
      "  -s SEGMENT, --segment SEGMENT\n",
      "                        segment of the UAVSAR stack to prepare. For \"s2\" use\n",
      "                        \"2\", etc. Default is \"1\"\n",
      "  -t TEXT_CMD, --text_cmd TEXT_CMD\n",
      "                        text command to be added to the beginning of each line\n",
      "                        of the run files. Example : source ~/.bash_profile;\n"
     ]
    }
   ],
   "source": [
    "! prepareUAVSAR_coregStack_segmets.py -h"
   ]
  },
  {
   "cell_type": "code",
   "execution_count": 12,
   "id": "5acc7c85-f62e-4073-a036-a8347cdc84e9",
   "metadata": {},
   "outputs": [
    {
     "name": "stdout",
     "output_type": "stream",
     "text": [
      "This is the Open Source version of ISCE.\n",
      "Some of the workflows depend on a separate licensed package.\n",
      "To obtain the licensed package, please make a request for ISCE\n",
      "through the website: https://download.jpl.nasa.gov/ops/request/index.cfm.\n",
      "Alternatively, if you are a member, or can become a member of WinSAR\n",
      "you may be able to obtain access to a version of the licensed sofware at\n",
      "https://winsar.unavco.org/software/isce\n",
      "usage: dem.py [-h] [-a ACTION] [-c] [-m META] [-s SOURCE] [-f]\n",
      "              [-v FILLINGVALUE] [-b BBOX [BBOX ...]] [-p PAIRS [PAIRS ...]]\n",
      "              [-k] [-r] [-l] [-d DIR] [-o OUTPUT] [-n UNAME] [-w PASSWORD]\n",
      "              [-t TYPE] [-x] [-u URL]\n",
      "\n",
      "optional arguments:\n",
      "  -h, --help            show this help message and exit\n",
      "  -a ACTION, --action ACTION\n",
      "                        Possible actions: stitch or download (default:\n",
      "                        stitch).\n",
      "  -c, --correct         Apply correction EGM96 -> WGS84 (default: False). The\n",
      "                        output metadata is in xml format only\n",
      "  -m META, --meta META  What type of metadata file is created. Possible\n",
      "                        values: xml or rsc (default: xml)\n",
      "  -s SOURCE, --source SOURCE\n",
      "                        Dem SRTM source. Possible values 1 or 3 (default: 1)\n",
      "  -f, --filling         Flag to instruct to fill missing Dems with null values\n",
      "                        (default null value -32768. Use -v or --filling_value\n",
      "                        option to change it)\n",
      "  -v FILLINGVALUE, --filling_value FILLINGVALUE\n",
      "                        Value used to fill missing Dems (default: -32768)\n",
      "  -b BBOX [BBOX ...], --bbox BBOX [BBOX ...]\n",
      "                        Defines the spatial region in the format south north\n",
      "                        west east. The values should be integers from (-90,90)\n",
      "                        for latitudes and (0,360) or (-180,180) for\n",
      "                        longitudes.\n",
      "  -p PAIRS [PAIRS ...], --pairs PAIRS [PAIRS ...]\n",
      "                        Set of latitude and longitude pairs for which --action\n",
      "                        = download is performed. The values should be integers\n",
      "                        from (-90,90) for latitudes and (0,360) or (-180,180)\n",
      "                        for longitudes\n",
      "  -k, --keep            If the option is present then the single files used\n",
      "                        for stitching are kept. If -l or --local is specified\n",
      "                        than the flag is automatically set (default: False)\n",
      "  -r, --report          If the option is present then failed and succeeded\n",
      "                        downloads are printed (default: False)\n",
      "  -l, --local           If the option is present then use the files that are\n",
      "                        in the location specified by --dir. If not present\n",
      "                        --dir indicates the directory where the files are\n",
      "                        downloaded (default: False)\n",
      "  -d DIR, --dir DIR     If used in conjunction with --local it specifies the\n",
      "                        location where the DEMs are located otherwise it\n",
      "                        specifies the directory where the DEMs are downloaded\n",
      "                        and the stitched DEM is generated (default: ./)\n",
      "  -o OUTPUT, --output OUTPUT\n",
      "                        Name of the output file to be created in --dir. If not\n",
      "                        provided the system generates one based on the bbox\n",
      "                        extremes\n",
      "  -n UNAME, --uname UNAME\n",
      "                        User name if using a server that requires\n",
      "                        authentication\n",
      "  -w PASSWORD, --password PASSWORD\n",
      "                        Password if using a server that requires\n",
      "                        authentication\n",
      "  -t TYPE, --type TYPE  Use version 3 or version 2 SRTM, or nasadem\n",
      "  -x, --noextras        Use this flag if the filenames do not have extra part\n",
      "  -u URL, --url URL     If --type=version2 then this is part of the url where\n",
      "                        the DEM files are located. The actual location must\n",
      "                        bethe one specified by --url plus\n",
      "                        /srtm/version2_1/SRTM(1,3).If --type=version3 then it\n",
      "                        represents the full path url\n",
      "\n",
      "Usage examples:\n",
      "\n",
      "Stitch (-a stitch) 1 arcsec dems (-s 1) in the bounding region 31 33 -114 -112 using the url (-u) and the log in credentials provided (-n,-w).\n",
      "Create a rsc metadata file (-m) and report the download results (-r)\n",
      "dem.py -a stitch -b 31 33 -114 -112 -s 1 -m rsc -r -n your_username -w your_password  -u https://aria-alt-dav.jpl.nasa.gov/repository/products/SRTM1_v3/ \n",
      "\n",
      "Download (-a download) the 3 arcsec (-s 3) whose lat/lon are 31 -114 and 31 -115 (-p)\n",
      "dem.py -a download -p 31 -114 31 -115 -s 3 \n",
      "\n",
      "Stitch the requested files and apply EGM96 -> WGS84 correction (-c)\n",
      "dem.py -a stitch -b 31 33 -114 -113 -r -s 1 -c\n",
      "\n",
      "Download from bounding boxes (-b)\n",
      "dem.py -a download -b 31 33 -114 -113  -r  -s 1\n",
      "\n",
      "Stitch the files in the local directory (-l) in the bounding region provided keeping the\n",
      "zip files after stitching (-k)\n",
      "dem.py -a stitch -b 31 33 -114 -113 -k  -r -l  -s 1\n"
     ]
    }
   ],
   "source": [
    "! dem.py"
   ]
  },
  {
   "cell_type": "code",
   "execution_count": null,
   "id": "15698b72-4f90-49eb-8bd1-a8568b31412b",
   "metadata": {},
   "outputs": [],
   "source": []
  }
 ],
 "metadata": {
  "kernelspec": {
   "display_name": "Python [conda env:isce2_env] *",
   "language": "python",
   "name": "conda-env-isce2_env-py"
  },
  "language_info": {
   "codemirror_mode": {
    "name": "ipython",
    "version": 3
   },
   "file_extension": ".py",
   "mimetype": "text/x-python",
   "name": "python",
   "nbconvert_exporter": "python",
   "pygments_lexer": "ipython3",
   "version": "3.9.13"
  }
 },
 "nbformat": 4,
 "nbformat_minor": 5
}
