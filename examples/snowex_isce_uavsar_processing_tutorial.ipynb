{
 "cells": [
  {
   "cell_type": "markdown",
   "id": "8f8708c0-1000-4ca8-a8d2-adf18061055a",
   "metadata": {},
   "source": [
    "# ISCE Processing of SnowEx UAVSAR data\n",
    "By: **Jack Tarricone** *(University of Nevada, Reno)* \\\n",
    "Guidance from: **Sam Neitlich** *(Montana State/JPL)*, **Yungling Lou** *(JPL)*, **Zach Keskenin** *(Boise State)*, **Ross Palomaki** *(Montana State)*, **Naheem Adebisi** *(Boise State)*"
   ]
  },
  {
   "cell_type": "code",
   "execution_count": 1,
   "id": "5d8f648b-3409-4ba6-a829-3766e6f5ef32",
   "metadata": {},
   "outputs": [
    {
     "ename": "ModuleNotFoundError",
     "evalue": "No module named 'wget'",
     "output_type": "error",
     "traceback": [
      "\u001b[0;31m---------------------------------------------------------------------------\u001b[0m",
      "\u001b[0;31mModuleNotFoundError\u001b[0m                       Traceback (most recent call last)",
      "Input \u001b[0;32mIn [1]\u001b[0m, in \u001b[0;36m<cell line: 2>\u001b[0;34m()\u001b[0m\n\u001b[1;32m      1\u001b[0m \u001b[38;5;28;01mimport\u001b[39;00m \u001b[38;5;21;01mos\u001b[39;00m\n\u001b[0;32m----> 2\u001b[0m \u001b[38;5;28;01mimport\u001b[39;00m \u001b[38;5;21;01mwget\u001b[39;00m\n\u001b[1;32m      3\u001b[0m \u001b[38;5;28;01mimport\u001b[39;00m \u001b[38;5;21;01mglob\u001b[39;00m\n\u001b[1;32m      4\u001b[0m \u001b[38;5;28;01mimport\u001b[39;00m \u001b[38;5;21;01mxarray\u001b[39;00m \u001b[38;5;28;01mas\u001b[39;00m \u001b[38;5;21;01mxr\u001b[39;00m\n",
      "\u001b[0;31mModuleNotFoundError\u001b[0m: No module named 'wget'"
     ]
    }
   ],
   "source": [
    "import os\n",
    "import wget\n",
    "import glob\n",
    "import xarray as xr\n",
    "import rioxarray as rxr\n",
    "import numpy as np\n",
    "import uavsar_pytools\n",
    "import matplotlib.pyplot as plt\n",
    "import matplotlib\n",
    "import rasterio as rio\n",
    "from osgeo import gdal\n",
    "from rasterio.plot import show"
   ]
  },
  {
   "cell_type": "markdown",
   "id": "20fdfa38-427c-4a7d-be93-492413094a22",
   "metadata": {},
   "source": [
    "This tutorial is a recreation of the processing steps outlined [IsceUAVSARprocessing.ipynb](https://github.com/taliboliver/Isce_UAVSAR/blob/master/IsceUAVSARprocessing.ipynb), with addtional functionality added by the ```uavsar_pytools``` package. It is assumed that users have ISCE installed on thier local machines, which admittedly can be the most challenging step in this process.  For information on ISCE installoation please see the [Isce_UAVSAR](https://github.com/taliboliver/Isce_UAVSAR) by **Talib Oliver** *(JPL)* or Eric fieldings (find link from Zach)\n",
    "\n",
    "In this notebook, we will interfermoterically process SLC stack from the Jemez Mountains, NM using the [Interferometric synthetic aperture radar Scientific Computing Environment (ISCE2)](https://github.com/isce-framework/isce2). We will then phase unwrap using [SNAPHU](https://web.stanford.edu/group/radar/softwareandlinks/sw/snaphu/), and geolocate the SLC data using ```geolocate_uavsar()```.\n",
    "\n",
    "Past tutorials have assumed that your Jupyter environment will natively run command line code. In this notebook will run ISCE using python functionality."
   ]
  },
  {
   "cell_type": "markdown",
   "id": "6d559c04-4b10-424f-970a-d44d5b3bb821",
   "metadata": {},
   "source": [
    "## Create folder to work out of\n",
    "First we'll create a new folder in our home directory to download files and run ISCE from"
   ]
  },
  {
   "cell_type": "code",
   "execution_count": null,
   "id": "9c8cdd5a-6abb-4d55-b4f5-72800e52a148",
   "metadata": {},
   "outputs": [],
   "source": [
    "# get home dir\n",
    "home = os.getcwd()\n",
    "print(home)"
   ]
  },
  {
   "cell_type": "code",
   "execution_count": null,
   "id": "04dc3e7a-2122-498f-b6a7-b45cc8a32255",
   "metadata": {},
   "outputs": [],
   "source": [
    "# working folder name\n",
    "isce_directory = 'jemez_isce'\n",
    "    \n",
    "# path to folder\n",
    "path = os.path.join(home,isce_directory)\n",
    "\n",
    "# make new folder\n",
    "os.mkdir(path)\n",
    "print(\"Directory '%s' created\" %isce_directory)"
   ]
  },
  {
   "cell_type": "code",
   "execution_count": null,
   "id": "f9115134-7567-4195-9bef-55ceed84a8e5",
   "metadata": {},
   "outputs": [],
   "source": [
    "# nativate to new folder\n",
    "os.chdir(path)\n",
    "os.getcwd()"
   ]
  },
  {
   "cell_type": "code",
   "execution_count": null,
   "id": "9f2c4c09-d482-4dfa-bd40-f979e2deb409",
   "metadata": {},
   "outputs": [],
   "source": [
    "# working folder name\n",
    "isce_directory = 'jemez_isce'\n",
    "    \n",
    "# path to folder\n",
    "path = os.path.join(home,isce_directory)\n",
    "\n",
    "# make new folder\n",
    "os.mkdir(path)"
   ]
  },
  {
   "cell_type": "markdown",
   "id": "462c5e94-fbae-485d-9b6f-f7d0006e5d98",
   "metadata": {},
   "source": [
    "## Data Download"
   ]
  },
  {
   "cell_type": "markdown",
   "id": "c4294960-8134-4461-8959-e57b84c85f44",
   "metadata": {},
   "source": [
    "Data links can be found on the UAVSAR site. In this case we'll be using SLCs from Feb 12th and 26th\n",
    "![](/Users/jacktarricone/uavsar_snow/examples/imgs/uavsar_data_portal.png)\n",
    "\n"
   ]
  },
  {
   "cell_type": "code",
   "execution_count": null,
   "id": "2a7e1ec6-7b5f-41a8-bf21-5fabe174be30",
   "metadata": {},
   "outputs": [],
   "source": [
    "# create download folder\n",
    "download = 'download'\n",
    "dl = os.path.join(path,download)\n",
    "os.mkdir(dl)"
   ]
  },
  {
   "cell_type": "code",
   "execution_count": null,
   "id": "42e21b73-a737-4911-b4eb-c139464b70b3",
   "metadata": {},
   "outputs": [],
   "source": [
    "os.chdir(dl)\n",
    "os.getcwd()"
   ]
  },
  {
   "cell_type": "markdown",
   "id": "54ab0711-60df-4c81-8454-816af618bac4",
   "metadata": {},
   "source": [
    "Here the links are formatted as a string, the ```wget``` removed, and saved as a text file. This can also be down outside of this notebook by copying the links directly from the UAVSAR data portal and saving into your local text editor."
   ]
  },
  {
   "cell_type": "code",
   "execution_count": null,
   "id": "ec56f499-006d-46d1-964d-6e82e4e54db9",
   "metadata": {},
   "outputs": [],
   "source": [
    "links = ['https://downloaduav2.jpl.nasa.gov/Release30/alamos_35915_01/alamos_35915_01_BU.dop',\n",
    "         'https://downloaduav2.jpl.nasa.gov/Release30/alamos_35915_01/alamos_35915_01_BU_s1_2x8.llh',\n",
    "         'https://downloaduav2.jpl.nasa.gov/Release30/alamos_35915_01/alamos_35915_01_BU_s1_2x8.lkv',\n",
    "         'https://downloaduav2.jpl.nasa.gov/Release30/alamos_35915_01/alamos_35915_20005_003_200212_L090HH_01_BU_s1_2x8.slc',\n",
    "         'https://downloaduav2.jpl.nasa.gov/Release30/alamos_35915_01/alamos_35915_20005_003_200212_L090HH_01_BU.ann',\n",
    "         'https://downloaduav2.jpl.nasa.gov/Release30/alamos_35915_01/alamos_35915_20013_000_200226_L090HH_01_BU_s1_2x8.slc',\n",
    "         'https://downloaduav2.jpl.nasa.gov/Release30/alamos_35915_01/alamos_35915_20013_000_200226_L090HH_01_BU.ann']\n",
    "\n",
    "with open('downloads.txt', 'w') as f:\n",
    "    for links in links:\n",
    "        f.write(links)\n",
    "        f.write('\\n')"
   ]
  },
  {
   "cell_type": "code",
   "execution_count": null,
   "id": "8dd4f38f-dddc-49e4-b819-701510560ffc",
   "metadata": {},
   "outputs": [],
   "source": [
    "type(links)"
   ]
  },
  {
   "cell_type": "code",
   "execution_count": null,
   "id": "a0e091e0-d34a-48df-9472-cc63ae6d1a2b",
   "metadata": {},
   "outputs": [],
   "source": [
    "import wget\n",
    "'http://www.futurecrew.com/skaven/song_files/mp3/razorback.mp3'\n",
    "filename = wget.download(url)"
   ]
  }
 ],
 "metadata": {
  "kernelspec": {
   "display_name": "isce2_env",
   "language": "python",
   "name": "isce2_env"
  },
  "language_info": {
   "codemirror_mode": {
    "name": "ipython",
    "version": 3
   },
   "file_extension": ".py",
   "mimetype": "text/x-python",
   "name": "python",
   "nbconvert_exporter": "python",
   "pygments_lexer": "ipython3",
   "version": "3.9.13"
  }
 },
 "nbformat": 4,
 "nbformat_minor": 5
}
