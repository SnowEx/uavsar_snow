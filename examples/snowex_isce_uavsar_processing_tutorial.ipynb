{
 "cells": [
  {
   "cell_type": "markdown",
   "id": "8f8708c0-1000-4ca8-a8d2-adf18061055a",
   "metadata": {},
   "source": [
    "# ISCE Processing of SnowEx UAVSAR data\n",
    "By: **Jack Tarricone** *(University of Nevada, Reno)* \\\n",
    "Guidance from: **Sam Neitlich** *(Montana State/JPL)*, **Yungling Lou** *(JPL)*, **Zach Keskenin** *(Boise State)*, **Ross Palomaki** *(Montana State)*, **Naheem Adebisi** *(Boise State)*"
   ]
  },
  {
   "cell_type": "code",
   "execution_count": 1,
   "id": "5d8f648b-3409-4ba6-a829-3766e6f5ef32",
   "metadata": {},
   "outputs": [],
   "source": [
    "import os\n",
    "import glob\n",
    "import xarray as xr\n",
    "import rioxarray as rxr\n",
    "import numpy as np\n",
    "import uavsar_pytools\n",
    "import matplotlib.pyplot as plt\n",
    "import matplotlib\n",
    "import rasterio as rio\n",
    "from osgeo import gdal\n",
    "from rasterio.plot import show"
   ]
  },
  {
   "cell_type": "markdown",
   "id": "20fdfa38-427c-4a7d-be93-492413094a22",
   "metadata": {},
   "source": [
    "This tutorial is a recreation of the processing steps outlined [IsceUAVSARprocessing.ipynb](https://github.com/taliboliver/Isce_UAVSAR/blob/master/IsceUAVSARprocessing.ipynb), with addtional functionality added by the ```uavsar_pytools``` package. It is assumed that users have ISCE installed on thier local machines, which admittedly can be the most challenging step in this process.  For information on ISCE installoation please see the [Isce_UAVSAR](https://github.com/taliboliver/Isce_UAVSAR) by **Talib Oliver** *(JPL)* or Eric fieldings (find link from Zach)\n",
    "\n",
    "In this notebook, we will interfermoterically process SLC stack from the Jemez Mountains, NM using the [Interferometric synthetic aperture radar Scientific Computing Environment (ISCE2)](https://github.com/isce-framework/isce2). We will then phase unwrap using [SNAPHU](https://web.stanford.edu/group/radar/softwareandlinks/sw/snaphu/), and geolocate the SLC data using ```geolocate_uavsar()```."
   ]
  },
  {
   "cell_type": "markdown",
   "id": "6d559c04-4b10-424f-970a-d44d5b3bb821",
   "metadata": {},
   "source": [
    "## Create folder to work out of\n",
    "First we'll create a new folder in our home directory to download files and run ISCE from"
   ]
  },
  {
   "cell_type": "code",
   "execution_count": 22,
   "id": "9c8cdd5a-6abb-4d55-b4f5-72800e52a148",
   "metadata": {},
   "outputs": [
    {
     "name": "stdout",
     "output_type": "stream",
     "text": [
      "/Users/jacktarricone/jemez_isce\n"
     ]
    }
   ],
   "source": [
    "# get home dir\n",
    "home = os.getcwd()\n",
    "print(home)"
   ]
  },
  {
   "cell_type": "code",
   "execution_count": 18,
   "id": "04dc3e7a-2122-498f-b6a7-b45cc8a32255",
   "metadata": {},
   "outputs": [
    {
     "name": "stdout",
     "output_type": "stream",
     "text": [
      "Directory 'jemez_isce' created\n"
     ]
    }
   ],
   "source": [
    "# working folder name\n",
    "isce_directory = 'jemez_isce'\n",
    "    \n",
    "# path to folder\n",
    "path = os.path.join(home,isce_directory)\n",
    "\n",
    "# make new folder\n",
    "os.mkdir(path)\n",
    "print(\"Directory '%s' created\" %isce_directory)"
   ]
  },
  {
   "cell_type": "code",
   "execution_count": 23,
   "id": "f9115134-7567-4195-9bef-55ceed84a8e5",
   "metadata": {},
   "outputs": [
    {
     "data": {
      "text/plain": [
       "'/Users/jacktarricone/jemez_isce'"
      ]
     },
     "execution_count": 23,
     "metadata": {},
     "output_type": "execute_result"
    }
   ],
   "source": [
    "# nativate to new folder\n",
    "os.chdir(path)\n",
    "os.getcwd()"
   ]
  },
  {
   "cell_type": "markdown",
   "id": "462c5e94-fbae-485d-9b6f-f7d0006e5d98",
   "metadata": {},
   "source": [
    "## Data Download"
   ]
  },
  {
   "cell_type": "code",
   "execution_count": null,
   "id": "4cfbbb37-4985-4b09-a239-e0128813a5db",
   "metadata": {},
   "outputs": [],
   "source": [
    "Data links can be found on the UAVSAR site"
   ]
  }
 ],
 "metadata": {
  "kernelspec": {
   "display_name": "Python 3 (ipykernel)",
   "language": "python",
   "name": "python3"
  },
  "language_info": {
   "codemirror_mode": {
    "name": "ipython",
    "version": 3
   },
   "file_extension": ".py",
   "mimetype": "text/x-python",
   "name": "python",
   "nbconvert_exporter": "python",
   "pygments_lexer": "ipython3",
   "version": "3.10.5"
  }
 },
 "nbformat": 4,
 "nbformat_minor": 5
}
