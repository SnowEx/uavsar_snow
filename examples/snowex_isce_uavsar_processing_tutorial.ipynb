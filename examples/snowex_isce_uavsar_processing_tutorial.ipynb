{
 "cells": [
  {
   "cell_type": "markdown",
   "id": "8f8708c0-1000-4ca8-a8d2-adf18061055a",
   "metadata": {},
   "source": [
    "# ISCE Processing of SnowEx UAVSAR data\n",
    "By: **Jack Tarricone** *(University of Nevada, Reno)* \\\n",
    "Guidance from: **Sam Neitlich** *(Montana State/JPL)*, **Yungling Lou** *(JPL)*, **Zach Keskenin** *(Boise State)*, **Ross Palomaki** *(Montana State)*, **Naheem Adebisi** *(Boise State)*\n",
    "\n",
    "For information on ISCE installoation please see the [Isce_UAVSAR](https://github.com/taliboliver/Isce_UAVSAR) by **Talib Oliver** *(JPL)*. This tutorial is a recreation of the processing stetps outlined [IsceUAVSARprocessing.ipynb](https://github.com/taliboliver/Isce_UAVSAR/blob/master/IsceUAVSARprocessing.ipynb), with addtional functionality added by the ```uavsar_pytools``` package."
   ]
  },
  {
   "cell_type": "code",
   "execution_count": 10,
   "id": "5d8f648b-3409-4ba6-a829-3766e6f5ef32",
   "metadata": {},
   "outputs": [],
   "source": [
    "import sys\n",
    "import os\n",
    "import glob\n",
    "import xarray as xr\n",
    "import rioxarray as rxr\n",
    "import numpy as np\n",
    "import uavsar_pytools\n",
    "import matplotlib.pyplot as plt\n",
    "import matplotlib\n",
    "import rasterio as rio\n",
    "from osgeo import gdal\n",
    "from rasterio.plot import show"
   ]
  },
  {
   "cell_type": "code",
   "execution_count": 9,
   "id": "9c8cdd5a-6abb-4d55-b4f5-72800e52a148",
   "metadata": {},
   "outputs": [
    {
     "name": "stdout",
     "output_type": "stream",
     "text": [
      "/Users/jacktarricone\n"
     ]
    }
   ],
   "source": [
    "# go to home \n",
    "cd ~"
   ]
  },
  {
   "cell_type": "code",
   "execution_count": null,
   "id": "04dc3e7a-2122-498f-b6a7-b45cc8a32255",
   "metadata": {},
   "outputs": [],
   "source": []
  }
 ],
 "metadata": {
  "kernelspec": {
   "display_name": "hackweek",
   "language": "python",
   "name": "hackweek"
  },
  "language_info": {
   "codemirror_mode": {
    "name": "ipython",
    "version": 3
   },
   "file_extension": ".py",
   "mimetype": "text/x-python",
   "name": "python",
   "nbconvert_exporter": "python",
   "pygments_lexer": "ipython3",
   "version": "3.10.5"
  }
 },
 "nbformat": 4,
 "nbformat_minor": 5
}
