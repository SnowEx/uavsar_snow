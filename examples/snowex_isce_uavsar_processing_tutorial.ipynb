{
 "cells": [
  {
   "cell_type": "markdown",
   "id": "8f8708c0-1000-4ca8-a8d2-adf18061055a",
   "metadata": {},
   "source": [
    "# ISCE Processing of SnowEx UAVSAR data\n",
    "By: **Jack Tarricone** *(University of Nevada, Reno)* \\\n",
    "Guidance from: **Sam Neitlich** *(Montana State/JPL)*, **Yungling Lou** *(JPL)*, **Zach Keskenin** *(Boise State)*, **Ross Palomaki** *(Montana State)*, **Naheem Adebisi** *(Boise State)*"
   ]
  },
  {
   "cell_type": "code",
   "execution_count": 1,
   "id": "5d8f648b-3409-4ba6-a829-3766e6f5ef32",
   "metadata": {},
   "outputs": [
    {
     "name": "stdout",
     "output_type": "stream",
     "text": [
      "This is the Open Source version of ISCE.\n",
      "Some of the workflows depend on a separate licensed package.\n",
      "To obtain the licensed package, please make a request for ISCE\n",
      "through the website: https://download.jpl.nasa.gov/ops/request/index.cfm.\n",
      "Alternatively, if you are a member, or can become a member of WinSAR\n",
      "you may be able to obtain access to a version of the licensed sofware at\n",
      "https://winsar.unavco.org/software/isce\n"
     ]
    },
    {
     "ename": "ModuleNotFoundError",
     "evalue": "No module named '_gdal'",
     "output_type": "error",
     "traceback": [
      "\u001b[0;31m---------------------------------------------------------------------------\u001b[0m",
      "\u001b[0;31mImportError\u001b[0m                               Traceback (most recent call last)",
      "File \u001b[0;32m~/opt/miniconda3/envs/isce2_env/lib/python3.9/site-packages/osgeo/__init__.py:29\u001b[0m, in \u001b[0;36mswig_import_helper\u001b[0;34m()\u001b[0m\n\u001b[1;32m     28\u001b[0m \u001b[38;5;28;01mtry\u001b[39;00m:\n\u001b[0;32m---> 29\u001b[0m     \u001b[38;5;28;01mreturn\u001b[39;00m \u001b[43mimportlib\u001b[49m\u001b[38;5;241;43m.\u001b[39;49m\u001b[43mimport_module\u001b[49m\u001b[43m(\u001b[49m\u001b[43mmname\u001b[49m\u001b[43m)\u001b[49m\n\u001b[1;32m     30\u001b[0m \u001b[38;5;28;01mexcept\u001b[39;00m \u001b[38;5;167;01mImportError\u001b[39;00m:\n",
      "File \u001b[0;32m~/opt/miniconda3/envs/isce2_env/lib/python3.9/importlib/__init__.py:127\u001b[0m, in \u001b[0;36mimport_module\u001b[0;34m(name, package)\u001b[0m\n\u001b[1;32m    126\u001b[0m         level \u001b[38;5;241m+\u001b[39m\u001b[38;5;241m=\u001b[39m \u001b[38;5;241m1\u001b[39m\n\u001b[0;32m--> 127\u001b[0m \u001b[38;5;28;01mreturn\u001b[39;00m \u001b[43m_bootstrap\u001b[49m\u001b[38;5;241;43m.\u001b[39;49m\u001b[43m_gcd_import\u001b[49m\u001b[43m(\u001b[49m\u001b[43mname\u001b[49m\u001b[43m[\u001b[49m\u001b[43mlevel\u001b[49m\u001b[43m:\u001b[49m\u001b[43m]\u001b[49m\u001b[43m,\u001b[49m\u001b[43m \u001b[49m\u001b[43mpackage\u001b[49m\u001b[43m,\u001b[49m\u001b[43m \u001b[49m\u001b[43mlevel\u001b[49m\u001b[43m)\u001b[49m\n",
      "File \u001b[0;32m<frozen importlib._bootstrap>:1030\u001b[0m, in \u001b[0;36m_gcd_import\u001b[0;34m(name, package, level)\u001b[0m\n",
      "File \u001b[0;32m<frozen importlib._bootstrap>:1007\u001b[0m, in \u001b[0;36m_find_and_load\u001b[0;34m(name, import_)\u001b[0m\n",
      "File \u001b[0;32m<frozen importlib._bootstrap>:986\u001b[0m, in \u001b[0;36m_find_and_load_unlocked\u001b[0;34m(name, import_)\u001b[0m\n",
      "File \u001b[0;32m<frozen importlib._bootstrap>:666\u001b[0m, in \u001b[0;36m_load_unlocked\u001b[0;34m(spec)\u001b[0m\n",
      "File \u001b[0;32m<frozen importlib._bootstrap>:565\u001b[0m, in \u001b[0;36mmodule_from_spec\u001b[0;34m(spec)\u001b[0m\n",
      "File \u001b[0;32m<frozen importlib._bootstrap_external>:1173\u001b[0m, in \u001b[0;36mcreate_module\u001b[0;34m(self, spec)\u001b[0m\n",
      "File \u001b[0;32m<frozen importlib._bootstrap>:228\u001b[0m, in \u001b[0;36m_call_with_frames_removed\u001b[0;34m(f, *args, **kwds)\u001b[0m\n",
      "\u001b[0;31mImportError\u001b[0m: dlopen(/Users/jacktarricone/opt/miniconda3/envs/isce2_env/lib/python3.9/site-packages/osgeo/_gdal.cpython-39-darwin.so, 0x0002): Symbol not found: _ZSTD_compressBound\n  Referenced from: /Users/jacktarricone/opt/miniconda3/envs/isce2_env/lib/libgdal.30.dylib\n  Expected in: /Users/jacktarricone/opt/miniconda3/envs/isce2_env/lib/libblosc.1.21.1.dylib",
      "\nDuring handling of the above exception, another exception occurred:\n",
      "\u001b[0;31mModuleNotFoundError\u001b[0m                       Traceback (most recent call last)",
      "Input \u001b[0;32mIn [1]\u001b[0m, in \u001b[0;36m<cell line: 6>\u001b[0;34m()\u001b[0m\n\u001b[1;32m      4\u001b[0m \u001b[38;5;28;01mimport\u001b[39;00m \u001b[38;5;21;01misce\u001b[39;00m\n\u001b[1;32m      5\u001b[0m \u001b[38;5;28;01mimport\u001b[39;00m \u001b[38;5;21;01mshutil\u001b[39;00m\n\u001b[0;32m----> 6\u001b[0m \u001b[38;5;28;01mfrom\u001b[39;00m \u001b[38;5;21;01mosgeo\u001b[39;00m \u001b[38;5;28;01mimport\u001b[39;00m gdal\n\u001b[1;32m      7\u001b[0m \u001b[38;5;28;01mimport\u001b[39;00m \u001b[38;5;21;01mmatplotlib\u001b[39;00m\u001b[38;5;21;01m.\u001b[39;00m\u001b[38;5;21;01mpyplot\u001b[39;00m \u001b[38;5;28;01mas\u001b[39;00m \u001b[38;5;21;01mplot\u001b[39;00m\n",
      "File \u001b[0;32m~/opt/miniconda3/envs/isce2_env/lib/python3.9/site-packages/osgeo/__init__.py:45\u001b[0m, in \u001b[0;36m<module>\u001b[0;34m\u001b[0m\n\u001b[1;32m     41\u001b[0m                 \u001b[38;5;28;01mraise\u001b[39;00m \u001b[38;5;167;01mImportError\u001b[39;00m(traceback_string \u001b[38;5;241m+\u001b[39m \u001b[38;5;124m'\u001b[39m\u001b[38;5;130;01m\\n\u001b[39;00m\u001b[38;5;124m'\u001b[39m \u001b[38;5;241m+\u001b[39m msg)\n\u001b[1;32m     42\u001b[0m         \u001b[38;5;28;01mreturn\u001b[39;00m importlib\u001b[38;5;241m.\u001b[39mimport_module(\u001b[38;5;124m'\u001b[39m\u001b[38;5;124m_gdal\u001b[39m\u001b[38;5;124m'\u001b[39m)\n\u001b[0;32m---> 45\u001b[0m _gdal \u001b[38;5;241m=\u001b[39m \u001b[43mswig_import_helper\u001b[49m\u001b[43m(\u001b[49m\u001b[43m)\u001b[49m\n\u001b[1;32m     46\u001b[0m \u001b[38;5;28;01mdel\u001b[39;00m swig_import_helper\n\u001b[1;32m     48\u001b[0m __version__ \u001b[38;5;241m=\u001b[39m _gdal\u001b[38;5;241m.\u001b[39m__version__ \u001b[38;5;241m=\u001b[39m _gdal\u001b[38;5;241m.\u001b[39mVersionInfo(\u001b[38;5;124m\"\u001b[39m\u001b[38;5;124mRELEASE_NAME\u001b[39m\u001b[38;5;124m\"\u001b[39m)\n",
      "File \u001b[0;32m~/opt/miniconda3/envs/isce2_env/lib/python3.9/site-packages/osgeo/__init__.py:42\u001b[0m, in \u001b[0;36mswig_import_helper\u001b[0;34m()\u001b[0m\n\u001b[1;32m     40\u001b[0m         traceback_string \u001b[38;5;241m=\u001b[39m \u001b[38;5;124m'\u001b[39m\u001b[38;5;124m'\u001b[39m\u001b[38;5;241m.\u001b[39mjoin(traceback\u001b[38;5;241m.\u001b[39mformat_exception(\u001b[38;5;241m*\u001b[39msys\u001b[38;5;241m.\u001b[39mexc_info()))\n\u001b[1;32m     41\u001b[0m         \u001b[38;5;28;01mraise\u001b[39;00m \u001b[38;5;167;01mImportError\u001b[39;00m(traceback_string \u001b[38;5;241m+\u001b[39m \u001b[38;5;124m'\u001b[39m\u001b[38;5;130;01m\\n\u001b[39;00m\u001b[38;5;124m'\u001b[39m \u001b[38;5;241m+\u001b[39m msg)\n\u001b[0;32m---> 42\u001b[0m \u001b[38;5;28;01mreturn\u001b[39;00m \u001b[43mimportlib\u001b[49m\u001b[38;5;241;43m.\u001b[39;49m\u001b[43mimport_module\u001b[49m\u001b[43m(\u001b[49m\u001b[38;5;124;43m'\u001b[39;49m\u001b[38;5;124;43m_gdal\u001b[39;49m\u001b[38;5;124;43m'\u001b[39;49m\u001b[43m)\u001b[49m\n",
      "File \u001b[0;32m~/opt/miniconda3/envs/isce2_env/lib/python3.9/importlib/__init__.py:127\u001b[0m, in \u001b[0;36mimport_module\u001b[0;34m(name, package)\u001b[0m\n\u001b[1;32m    125\u001b[0m             \u001b[38;5;28;01mbreak\u001b[39;00m\n\u001b[1;32m    126\u001b[0m         level \u001b[38;5;241m+\u001b[39m\u001b[38;5;241m=\u001b[39m \u001b[38;5;241m1\u001b[39m\n\u001b[0;32m--> 127\u001b[0m \u001b[38;5;28;01mreturn\u001b[39;00m \u001b[43m_bootstrap\u001b[49m\u001b[38;5;241;43m.\u001b[39;49m\u001b[43m_gcd_import\u001b[49m\u001b[43m(\u001b[49m\u001b[43mname\u001b[49m\u001b[43m[\u001b[49m\u001b[43mlevel\u001b[49m\u001b[43m:\u001b[49m\u001b[43m]\u001b[49m\u001b[43m,\u001b[49m\u001b[43m \u001b[49m\u001b[43mpackage\u001b[49m\u001b[43m,\u001b[49m\u001b[43m \u001b[49m\u001b[43mlevel\u001b[49m\u001b[43m)\u001b[49m\n",
      "\u001b[0;31mModuleNotFoundError\u001b[0m: No module named '_gdal'"
     ]
    }
   ],
   "source": [
    "import os\n",
    "import glob\n",
    "import numpy as np\n",
    "import isce\n",
    "import shutil\n",
    "from osgeo import gdal\n",
    "import matplotlib.pyplot as plot\n",
    "#import wget #(fix this)\n",
    "#import uavsar_pytools\n",
    "#import matplotlib.pyplot as plt\n",
    "#import matplotlib\n",
    "#import rasterio as rio\n",
    "#from osgeo import gdal\n",
    "#from rasterio.plot import show"
   ]
  },
  {
   "cell_type": "markdown",
   "id": "20fdfa38-427c-4a7d-be93-492413094a22",
   "metadata": {},
   "source": [
    "This tutorial is a recreation of the processing steps outlined [IsceUAVSARprocessing.ipynb](https://github.com/taliboliver/Isce_UAVSAR/blob/master/IsceUAVSARprocessing.ipynb), with addtional functionality added by the ```uavsar_pytools``` package. It is assumed that users have ISCE installed on thier local machines, which admittedly can be the most challenging step in this process.  For information on ISCE installoation please see the [Isce_UAVSAR](https://github.com/taliboliver/Isce_UAVSAR) by **Talib Oliver** *(JPL)* or Eric fieldings (find link from Zach)\n",
    "\n",
    "In this notebook, we will interfermoterically process SLC stack from the Jemez Mountains, NM using the [Interferometric synthetic aperture radar Scientific Computing Environment (ISCE2)](https://github.com/isce-framework/isce2). We will then phase unwrap using [SNAPHU](https://web.stanford.edu/group/radar/softwareandlinks/sw/snaphu/), and geolocate the SLC data using ```geolocate_uavsar()```.\n",
    "\n",
    "Past tutorials have assumed that your Jupyter environment will natively run command line code. In this notebook will run ISCE using python functionality."
   ]
  },
  {
   "cell_type": "markdown",
   "id": "6d559c04-4b10-424f-970a-d44d5b3bb821",
   "metadata": {},
   "source": [
    "## Create folder to work out of\n",
    "First we'll create a new folder in our home directory to download files and run ISCE from"
   ]
  },
  {
   "cell_type": "code",
   "execution_count": null,
   "id": "9c8cdd5a-6abb-4d55-b4f5-72800e52a148",
   "metadata": {},
   "outputs": [],
   "source": [
    "# get home dir\n",
    "home = '/Users/jacktarricone/'\n",
    "os.chdir(home)\n",
    "os.getcwd()"
   ]
  },
  {
   "cell_type": "code",
   "execution_count": null,
   "id": "04dc3e7a-2122-498f-b6a7-b45cc8a32255",
   "metadata": {},
   "outputs": [],
   "source": [
    "# working folder name\n",
    "isce_directory = 'jemez_isce'\n",
    "    \n",
    "# path to folder\n",
    "working_dir = os.path.join(home,isce_directory)"
   ]
  },
  {
   "cell_type": "code",
   "execution_count": null,
   "id": "7d9faa0b-55d8-497c-b185-bcc7a52e670e",
   "metadata": {},
   "outputs": [],
   "source": [
    "# make new folder\n",
    "#os.mkdir(working_dir)\n",
    "print(\"Directory '%s' created\" %isce_directory)"
   ]
  },
  {
   "cell_type": "code",
   "execution_count": null,
   "id": "f9115134-7567-4195-9bef-55ceed84a8e5",
   "metadata": {},
   "outputs": [],
   "source": [
    "# nativate to new folder\n",
    "os.chdir(working_dir)\n",
    "os.getcwd()"
   ]
  },
  {
   "cell_type": "code",
   "execution_count": null,
   "id": "046e1a12-93eb-4929-9281-74f119e1b304",
   "metadata": {},
   "outputs": [],
   "source": [
    "## create subdirectories\n",
    "\n",
    "# download\n",
    "dl = 'download'\n",
    "download_path = os.path.join(working_dir,dl)\n",
    "#os.mkdir(download_path)\n",
    "\n",
    "# slc\n",
    "SLC = 'SLC'\n",
    "slc_path = os.path.join(working_dir,SLC)\n",
    "#os.mkdir(slc_path)\n",
    "\n",
    "# baselines\n",
    "bl = 'baselines'\n",
    "baselines_path = os.path.join(working_dir,bl)\n",
    "#os.mkdir(baselines_path)\n",
    "\n",
    "# referenceShelve\n",
    "rs = 'referenceShelve'\n",
    "referenceShelve_path = os.path.join(working_dir,rs)\n",
    "#os.mkdir(referenceShelve_path)\n",
    "\n",
    "# dem\n",
    "dem = 'DEM'\n",
    "dem_path = os.path.join(working_dir,dem)\n",
    "#os.mkdir(dem_path)\n",
    "\n",
    "# igrams\n",
    "igrams = 'igrams'\n",
    "igrams_path = os.path.join(working_dir,igrams)\n",
    "#os.mkdir(igrams_path)"
   ]
  },
  {
   "cell_type": "code",
   "execution_count": null,
   "id": "fbe98cc4-1e0f-403f-9926-b1cd44b5bf7c",
   "metadata": {},
   "outputs": [],
   "source": [
    "# check folders were created\n",
    "for file in os.listdir(working_dir):\n",
    "    d = os.path.join(working_dir, file)\n",
    "    if os.path.isdir(d):\n",
    "        print(d)"
   ]
  },
  {
   "cell_type": "markdown",
   "id": "462c5e94-fbae-485d-9b6f-f7d0006e5d98",
   "metadata": {},
   "source": [
    "## Data Download"
   ]
  },
  {
   "cell_type": "markdown",
   "id": "c4294960-8134-4461-8959-e57b84c85f44",
   "metadata": {},
   "source": [
    "Data links can be found on the UAVSAR site [here](https://uavsar.jpl.nasa.gov/cgi-bin/product.pl?jobName=alamos_35915_01#data\"). In this case we'll be using SLCs from Feb 12th and 26th, both the LLH and LKV files, 1x1 pixel spacing, and just the HH polarization. By selecting these options, the site generates the list of ```wget``` download commands below."
   ]
  },
  {
   "cell_type": "markdown",
   "id": "c6b72f4b-5e57-4fef-a01b-1f490e20afcf",
   "metadata": {},
   "source": [
    " <p align=\"left\">\n",
    "  <img width=\"600\" src=\"imgs/uavsar_data_portal.png\">\n",
    "</p>     \n",
    "<p style=\"text-align: center;\">\n",
    "    (Data download screen)\n",
    "</p>"
   ]
  },
  {
   "cell_type": "markdown",
   "id": "54ab0711-60df-4c81-8454-816af618bac4",
   "metadata": {},
   "source": [
    "Here the links are formatted as a string and saved as an exeutable shell file (.sh). This can also be down outside of this notebook by copying the links directly from the UAVSAR data portal and saving into your local text editor."
   ]
  },
  {
   "cell_type": "code",
   "execution_count": null,
   "id": "b53d4cdb-c04a-4a73-9890-aa5ab75be95b",
   "metadata": {},
   "outputs": [],
   "source": [
    "# nativate to download folder\n",
    "os.chdir(download_path)\n",
    "os.getcwd()"
   ]
  },
  {
   "cell_type": "code",
   "execution_count": null,
   "id": "ec56f499-006d-46d1-964d-6e82e4e54db9",
   "metadata": {},
   "outputs": [],
   "source": [
    "# create .sh file from links\n",
    "\n",
    "links = ['wget https://downloaduav2.jpl.nasa.gov/Release30/alamos_35915_01/alamos_35915_01_BU.dop',\n",
    "         'wget https://downloaduav2.jpl.nasa.gov/Release30/alamos_35915_01/alamos_35915_01_BU_s1_2x8.llh',\n",
    "         'wget https://downloaduav2.jpl.nasa.gov/Release30/alamos_35915_01/alamos_35915_01_BU_s1_2x8.lkv',\n",
    "         'wget https://downloaduav2.jpl.nasa.gov/Release30/alamos_35915_01/alamos_35915_20005_003_200212_L090HH_01_BU_s1_1x1.slc',\n",
    "         'wget https://downloaduav2.jpl.nasa.gov/Release30/alamos_35915_01/alamos_35915_20005_003_200212_L090HH_01_BU.ann',\n",
    "         'wget https://downloaduav2.jpl.nasa.gov/Release30/alamos_35915_01/alamos_35915_20013_000_200226_L090HH_01_BU_s1_1x1.slc',\n",
    "         'wget https://downloaduav2.jpl.nasa.gov/Release30/alamos_35915_01/alamos_35915_20013_000_200226_L090HH_01_BU.ann']\n",
    "\n",
    "with open('downloads.sh', 'w') as f:\n",
    "    for links in links:\n",
    "        f.write(links)\n",
    "        f.write('\\n')"
   ]
  },
  {
   "cell_type": "code",
   "execution_count": null,
   "id": "a0e091e0-d34a-48df-9472-cc63ae6d1a2b",
   "metadata": {},
   "outputs": [],
   "source": [
    "# ! sh downloads.sh"
   ]
  },
  {
   "cell_type": "code",
   "execution_count": null,
   "id": "44960d62-5339-4964-baf4-52813b667dd8",
   "metadata": {},
   "outputs": [],
   "source": [
    "# list files downloaded\n",
    "for i in os.listdir(download_path):\n",
    "    file = os.path.join(download_path, i)\n",
    "    print(file)"
   ]
  },
  {
   "cell_type": "markdown",
   "id": "76f8b436-0bc3-40fe-8d8a-5b420bb620de",
   "metadata": {},
   "source": [
    "## Prepare SLC Stack"
   ]
  },
  {
   "cell_type": "code",
   "execution_count": null,
   "id": "97996001-e236-4041-b06d-0170ff359f97",
   "metadata": {},
   "outputs": [],
   "source": [
    "# nativate to download folder\n",
    "os.chdir(working_dir)\n",
    "os.getcwd()"
   ]
  },
  {
   "cell_type": "code",
   "execution_count": null,
   "id": "4977e685-88f9-454e-8f5d-a467526f9f65",
   "metadata": {},
   "outputs": [],
   "source": [
    "# copy doppler file to working directory\n",
    "shutil.copy(\"/Users/jacktarricone/jemez_isce/download/alamos_35915_01_BU.dop\", \n",
    "            \"/Users/jacktarricone/jemez_isce/alamos_35915_01_BU.dop\")"
   ]
  },
  {
   "cell_type": "code",
   "execution_count": null,
   "id": "8f741aaa-d20a-43bc-98e8-810c418a13f6",
   "metadata": {},
   "outputs": [],
   "source": [
    "# check function inputs\n",
    "! prepareUAVSAR_coregStack_segmets.py -h"
   ]
  },
  {
   "cell_type": "markdown",
   "id": "fc840c61-78fd-4722-8644-49d1228a2389",
   "metadata": {},
   "source": [
    "In this case our -i flag will the the download folder, the -d flag will be the doppler file, -0 will be the SLC directory."
   ]
  },
  {
   "cell_type": "code",
   "execution_count": null,
   "id": "5acc7c85-f62e-4073-a036-a8347cdc84e9",
   "metadata": {},
   "outputs": [],
   "source": [
    "!prepareUAVSAR_coregStack_segmets.py -i download/ -d alamos_35915_01_BU.dop -o SLC"
   ]
  },
  {
   "cell_type": "code",
   "execution_count": null,
   "id": "15698b72-4f90-49eb-8bd1-a8568b31412b",
   "metadata": {},
   "outputs": [],
   "source": [
    "# using gdal info the check everything worked\n",
    "! gdalinfo /Users/jacktarricone/jemez_isce/SLC/20200212T1545/alamos_35915_20005_003_200212_L090HH_01_BU_s1_1x1.slc"
   ]
  },
  {
   "cell_type": "code",
   "execution_count": null,
   "id": "61bd9725-a72c-44ed-a2d0-8b44ac65dfff",
   "metadata": {},
   "outputs": [],
   "source": [
    "ds = gdal.Open(\"/Users/jacktarricone/jemez_isce/SLC/20200212T1545/alamos_35915_20005_003_200212_L090HH_01_BU_s1_1x1.slc\", gdal.GA_ReadOnly)\n",
    "# extract a part of the SLC to display\n",
    "x0 = 0\n",
    "y0 = 0\n",
    "x_offset = 9789\n",
    "y_offset = 69021  \n",
    "slc = ds.GetRasterBand(1).ReadAsArray(x0, y0, x_offset, y_offset)\n",
    "ds = None\n",
    "\n",
    "fig = plt.figure(figsize=(14, 12))\n",
    "\n",
    "# display amplitude of the slc\n",
    "ax = fig.add_subplot(1,2,1)\n",
    "ax.imshow(np.abs(slc), vmin = 0, vmax=1, cmap='gray')\n",
    "ax.set_title(\"amplitude\")\n",
    "\n",
    "#display phase of the slc\n",
    "ax = fig.add_subplot(1,2,2)\n",
    "ax.imshow(np.angle(slc))\n",
    "ax.set_title(\"phase\")\n",
    "\n",
    "plt.show()\n",
    "\n",
    "slc = None\n"
   ]
  },
  {
   "cell_type": "code",
   "execution_count": null,
   "id": "34f055ac-46e4-477e-a5e4-80585b3d0f2e",
   "metadata": {},
   "outputs": [],
   "source": []
  }
 ],
 "metadata": {
  "kernelspec": {
   "display_name": "Python [conda env:isce2_env]",
   "language": "python",
   "name": "conda-env-isce2_env-py"
  },
  "language_info": {
   "codemirror_mode": {
    "name": "ipython",
    "version": 3
   },
   "file_extension": ".py",
   "mimetype": "text/x-python",
   "name": "python",
   "nbconvert_exporter": "python",
   "pygments_lexer": "ipython3",
   "version": "3.9.13"
  }
 },
 "nbformat": 4,
 "nbformat_minor": 5
}
