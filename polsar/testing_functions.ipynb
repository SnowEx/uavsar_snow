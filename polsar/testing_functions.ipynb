{
 "cells": [
  {
   "cell_type": "code",
   "execution_count": 1,
   "metadata": {},
   "outputs": [],
   "source": [
    "from polsar_functions import get_polsar_stack, uavsar_H_A_alpha"
   ]
  },
  {
   "cell_type": "code",
   "execution_count": 2,
   "metadata": {},
   "outputs": [],
   "source": [
    "in_dir = '/Users/zachkeskinen/Documents/uavsar_snow/polsar_imgs/uticam_21003_21004_002_210120_L090_CX_01_grd'"
   ]
  },
  {
   "cell_type": "code",
   "execution_count": 3,
   "metadata": {},
   "outputs": [],
   "source": [
    "x_min, x_max = 3000,4000\n",
    "y_min, y_max = 10000,11000\n",
    "bounds = [x_min, x_max, y_min, y_max]"
   ]
  },
  {
   "cell_type": "code",
   "execution_count": 4,
   "metadata": {},
   "outputs": [],
   "source": [
    "stack = get_polsar_stack(in_dir, bounds = bounds)"
   ]
  },
  {
   "cell_type": "code",
   "execution_count": 5,
   "metadata": {},
   "outputs": [
    {
     "ename": "TypeError",
     "evalue": "calc_C3() takes 6 positional arguments but 14869 were given",
     "output_type": "error",
     "traceback": [
      "\u001b[0;31m---------------------------------------------------------------------------\u001b[0m",
      "\u001b[0;31mTypeError\u001b[0m                                 Traceback (most recent call last)",
      "\u001b[1;32m/Users/zachkeskinen/Documents/uavsar_snow/polsar/testing_functions.ipynb Cell 5'\u001b[0m in \u001b[0;36m<cell line: 1>\u001b[0;34m()\u001b[0m\n\u001b[0;32m----> <a href='vscode-notebook-cell:/Users/zachkeskinen/Documents/uavsar_snow/polsar/testing_functions.ipynb#ch0000003?line=0'>1</a>\u001b[0m uavsar_H_A_alpha(stack)\n",
      "File \u001b[0;32m~/Documents/uavsar_snow/polsar/polsar_functions.py:271\u001b[0m, in \u001b[0;36muavsar_H_A_alpha\u001b[0;34m(stack)\u001b[0m\n\u001b[1;32m    266\u001b[0m \u001b[39mdef\u001b[39;00m \u001b[39muavsar_H_A_alpha\u001b[39m(stack):\n\u001b[1;32m    267\u001b[0m     \u001b[39m\"\"\"\u001b[39;00m\n\u001b[1;32m    268\u001b[0m \u001b[39m    Calculate alpha, anisotropy, and entropy for all pixels of an 6 x rows x col array.\u001b[39;00m\n\u001b[1;32m    269\u001b[0m \u001b[39m    returns 3 x rows x cols array with mean alpha @ 0, entropy @ 1 and anisotropy @ 2.\u001b[39;00m\n\u001b[1;32m    270\u001b[0m \u001b[39m    \"\"\"\u001b[39;00m\n\u001b[0;32m--> 271\u001b[0m     C3 \u001b[39m=\u001b[39m calc_C3(\u001b[39m*\u001b[39;49mstack)\n\u001b[1;32m    272\u001b[0m     T3 \u001b[39m=\u001b[39m C3_to_T3(C3)\n\u001b[1;32m    273\u001b[0m     mean_alpha \u001b[39m=\u001b[39m T3_to_mean_alpha(T3)\n",
      "\u001b[0;31mTypeError\u001b[0m: calc_C3() takes 6 positional arguments but 14869 were given"
     ]
    }
   ],
   "source": [
    "uavsar_H_A_alpha(stack)"
   ]
  },
  {
   "cell_type": "code",
   "execution_count": null,
   "metadata": {},
   "outputs": [],
   "source": []
  }
 ],
 "metadata": {
  "kernelspec": {
   "display_name": "Python 3.9.12 ('uavsar')",
   "language": "python",
   "name": "python3"
  },
  "language_info": {
   "codemirror_mode": {
    "name": "ipython",
    "version": 3
   },
   "file_extension": ".py",
   "mimetype": "text/x-python",
   "name": "python",
   "nbconvert_exporter": "python",
   "pygments_lexer": "ipython3",
   "version": "3.9.12"
  },
  "orig_nbformat": 4,
  "vscode": {
   "interpreter": {
    "hash": "ba8967e065a58c806f1bdb735567067b52f77062b6ff6cacc1c3011561bd9c8e"
   }
  }
 },
 "nbformat": 4,
 "nbformat_minor": 2
}
